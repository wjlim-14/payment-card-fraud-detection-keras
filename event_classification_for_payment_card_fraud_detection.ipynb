{
  "cells": [
    {
      "cell_type": "markdown",
      "metadata": {
        "id": "view-in-github",
        "colab_type": "text"
      },
      "source": [
        "<a href=\"https://colab.research.google.com/github/wjlim-14/payment-card-fraud-detection-keras/blob/main/event_classification_for_payment_card_fraud_detection.ipynb\" target=\"_parent\"><img src=\"https://colab.research.google.com/assets/colab-badge.svg\" alt=\"Open In Colab\"/></a>"
      ]
    },
    {
      "cell_type": "markdown",
      "metadata": {
        "id": "_Y-Tloo0d0iu"
      },
      "source": [
        "# Event classification for payment card fraud detection\n",
        "\n",
        "**Author:** [achoum](https://github.com/achoum/)<br>\n",
        "**Date created:** 2024/02/01<br>\n",
        "**Last modified:** 2024/02/01<br>\n",
        "**Description:** Detection of fraudulent payment card transactions using Temporian and a feed-forward neural network."
      ]
    },
    {
      "cell_type": "markdown",
      "metadata": {
        "id": "qSOqUxT6d0iv"
      },
      "source": [
        "This notebook depends on Keras 3, Temporian, and a few other libraries. You can\n",
        "install them as follow:\n",
        "\n",
        "```shell\n",
        "pip install temporian keras pandas tf-nightly scikit-learn -U\n",
        "```"
      ]
    },
    {
      "cell_type": "code",
      "source": [
        "!pip install temporian keras pandas tf-nightly scikit-learn -U"
      ],
      "metadata": {
        "colab": {
          "base_uri": "https://localhost:8080/"
        },
        "id": "i_YkJWUQecCY",
        "outputId": "b8e8ea0d-4e01-456e-8495-6ad5f439655e"
      },
      "execution_count": 1,
      "outputs": [
        {
          "output_type": "stream",
          "name": "stdout",
          "text": [
            "Collecting temporian\n",
            "  Downloading temporian-0.7.0-cp310-cp310-manylinux_2_17_x86_64.manylinux2014_x86_64.whl (639 kB)\n",
            "\u001b[2K     \u001b[90m━━━━━━━━━━━━━━━━━━━━━━━━━━━━━━━━━━━━━━━━\u001b[0m \u001b[32m639.4/639.4 kB\u001b[0m \u001b[31m4.1 MB/s\u001b[0m eta \u001b[36m0:00:00\u001b[0m\n",
            "\u001b[?25hRequirement already satisfied: keras in /usr/local/lib/python3.10/dist-packages (2.15.0)\n",
            "Collecting keras\n",
            "  Downloading keras-3.0.5-py3-none-any.whl (1.0 MB)\n",
            "\u001b[2K     \u001b[90m━━━━━━━━━━━━━━━━━━━━━━━━━━━━━━━━━━━━━━━━\u001b[0m \u001b[32m1.0/1.0 MB\u001b[0m \u001b[31m19.8 MB/s\u001b[0m eta \u001b[36m0:00:00\u001b[0m\n",
            "\u001b[?25hRequirement already satisfied: pandas in /usr/local/lib/python3.10/dist-packages (1.5.3)\n",
            "Collecting pandas\n",
            "  Downloading pandas-2.2.1-cp310-cp310-manylinux_2_17_x86_64.manylinux2014_x86_64.whl (13.0 MB)\n",
            "\u001b[2K     \u001b[90m━━━━━━━━━━━━━━━━━━━━━━━━━━━━━━━━━━━━━━━━\u001b[0m \u001b[32m13.0/13.0 MB\u001b[0m \u001b[31m51.4 MB/s\u001b[0m eta \u001b[36m0:00:00\u001b[0m\n",
            "\u001b[?25hCollecting tf-nightly\n",
            "  Downloading tf_nightly-2.16.0-cp310-cp310-manylinux_2_17_x86_64.manylinux2014_x86_64.whl (590.0 MB)\n",
            "\u001b[2K     \u001b[90m━━━━━━━━━━━━━━━━━━━━━━━━━━━━━━━━━━━━━━━━\u001b[0m \u001b[32m590.0/590.0 MB\u001b[0m \u001b[31m1.9 MB/s\u001b[0m eta \u001b[36m0:00:00\u001b[0m\n",
            "\u001b[?25hRequirement already satisfied: scikit-learn in /usr/local/lib/python3.10/dist-packages (1.2.2)\n",
            "Collecting scikit-learn\n",
            "  Downloading scikit_learn-1.4.1.post1-cp310-cp310-manylinux_2_17_x86_64.manylinux2014_x86_64.whl (12.1 MB)\n",
            "\u001b[2K     \u001b[90m━━━━━━━━━━━━━━━━━━━━━━━━━━━━━━━━━━━━━━━━\u001b[0m \u001b[32m12.1/12.1 MB\u001b[0m \u001b[31m38.4 MB/s\u001b[0m eta \u001b[36m0:00:00\u001b[0m\n",
            "\u001b[?25hRequirement already satisfied: absl-py<2.0.0,>=1.3.0 in /usr/local/lib/python3.10/dist-packages (from temporian) (1.4.0)\n",
            "Requirement already satisfied: matplotlib<4.0.0,>=3.7.1 in /usr/local/lib/python3.10/dist-packages (from temporian) (3.7.1)\n",
            "Requirement already satisfied: protobuf>=3.20.3 in /usr/local/lib/python3.10/dist-packages (from temporian) (3.20.3)\n",
            "Requirement already satisfied: numpy in /usr/local/lib/python3.10/dist-packages (from keras) (1.25.2)\n",
            "Requirement already satisfied: rich in /usr/local/lib/python3.10/dist-packages (from keras) (13.7.1)\n",
            "Collecting namex (from keras)\n",
            "  Downloading namex-0.0.7-py3-none-any.whl (5.8 kB)\n",
            "Requirement already satisfied: h5py in /usr/local/lib/python3.10/dist-packages (from keras) (3.9.0)\n",
            "Requirement already satisfied: dm-tree in /usr/local/lib/python3.10/dist-packages (from keras) (0.1.8)\n",
            "Requirement already satisfied: ml-dtypes in /usr/local/lib/python3.10/dist-packages (from keras) (0.2.0)\n",
            "Requirement already satisfied: python-dateutil>=2.8.2 in /usr/local/lib/python3.10/dist-packages (from pandas) (2.8.2)\n",
            "Requirement already satisfied: pytz>=2020.1 in /usr/local/lib/python3.10/dist-packages (from pandas) (2023.4)\n",
            "Collecting tzdata>=2022.7 (from pandas)\n",
            "  Downloading tzdata-2024.1-py2.py3-none-any.whl (345 kB)\n",
            "\u001b[2K     \u001b[90m━━━━━━━━━━━━━━━━━━━━━━━━━━━━━━━━━━━━━━━━\u001b[0m \u001b[32m345.4/345.4 kB\u001b[0m \u001b[31m19.5 MB/s\u001b[0m eta \u001b[36m0:00:00\u001b[0m\n",
            "\u001b[?25hRequirement already satisfied: astunparse>=1.6.0 in /usr/local/lib/python3.10/dist-packages (from tf-nightly) (1.6.3)\n",
            "Requirement already satisfied: flatbuffers>=23.5.26 in /usr/local/lib/python3.10/dist-packages (from tf-nightly) (23.5.26)\n",
            "Requirement already satisfied: gast!=0.5.0,!=0.5.1,!=0.5.2,>=0.2.1 in /usr/local/lib/python3.10/dist-packages (from tf-nightly) (0.5.4)\n",
            "Requirement already satisfied: google-pasta>=0.1.1 in /usr/local/lib/python3.10/dist-packages (from tf-nightly) (0.2.0)\n",
            "Collecting h5py (from keras)\n",
            "  Downloading h5py-3.10.0-cp310-cp310-manylinux_2_17_x86_64.manylinux2014_x86_64.whl (4.8 MB)\n",
            "\u001b[2K     \u001b[90m━━━━━━━━━━━━━━━━━━━━━━━━━━━━━━━━━━━━━━━━\u001b[0m \u001b[32m4.8/4.8 MB\u001b[0m \u001b[31m48.4 MB/s\u001b[0m eta \u001b[36m0:00:00\u001b[0m\n",
            "\u001b[?25hRequirement already satisfied: libclang>=13.0.0 in /usr/local/lib/python3.10/dist-packages (from tf-nightly) (16.0.6)\n",
            "Collecting ml-dtypes (from keras)\n",
            "  Downloading ml_dtypes-0.3.2-cp310-cp310-manylinux_2_17_x86_64.manylinux2014_x86_64.whl (2.2 MB)\n",
            "\u001b[2K     \u001b[90m━━━━━━━━━━━━━━━━━━━━━━━━━━━━━━━━━━━━━━━━\u001b[0m \u001b[32m2.2/2.2 MB\u001b[0m \u001b[31m67.5 MB/s\u001b[0m eta \u001b[36m0:00:00\u001b[0m\n",
            "\u001b[?25hRequirement already satisfied: opt-einsum>=2.3.2 in /usr/local/lib/python3.10/dist-packages (from tf-nightly) (3.3.0)\n",
            "Requirement already satisfied: packaging in /usr/local/lib/python3.10/dist-packages (from tf-nightly) (23.2)\n",
            "Requirement already satisfied: requests<3,>=2.21.0 in /usr/local/lib/python3.10/dist-packages (from tf-nightly) (2.31.0)\n",
            "Requirement already satisfied: setuptools in /usr/local/lib/python3.10/dist-packages (from tf-nightly) (67.7.2)\n",
            "Requirement already satisfied: six>=1.12.0 in /usr/local/lib/python3.10/dist-packages (from tf-nightly) (1.16.0)\n",
            "Requirement already satisfied: termcolor>=1.1.0 in /usr/local/lib/python3.10/dist-packages (from tf-nightly) (2.4.0)\n",
            "Requirement already satisfied: typing-extensions>=3.6.6 in /usr/local/lib/python3.10/dist-packages (from tf-nightly) (4.10.0)\n",
            "Requirement already satisfied: wrapt>=1.11.0 in /usr/local/lib/python3.10/dist-packages (from tf-nightly) (1.14.1)\n",
            "Requirement already satisfied: grpcio<2.0,>=1.24.3 in /usr/local/lib/python3.10/dist-packages (from tf-nightly) (1.62.0)\n",
            "Collecting tb-nightly~=2.16.0.a (from tf-nightly)\n",
            "  Downloading tb_nightly-2.16.0a20240212-py3-none-any.whl (5.5 MB)\n",
            "\u001b[2K     \u001b[90m━━━━━━━━━━━━━━━━━━━━━━━━━━━━━━━━━━━━━━━━\u001b[0m \u001b[32m5.5/5.5 MB\u001b[0m \u001b[31m55.2 MB/s\u001b[0m eta \u001b[36m0:00:00\u001b[0m\n",
            "\u001b[?25hCollecting keras-nightly~=3.0.0.dev (from tf-nightly)\n",
            "  Downloading keras_nightly-3.0.4.dev2024021403-py3-none-any.whl (1.0 MB)\n",
            "\u001b[2K     \u001b[90m━━━━━━━━━━━━━━━━━━━━━━━━━━━━━━━━━━━━━━━━\u001b[0m \u001b[32m1.0/1.0 MB\u001b[0m \u001b[31m34.6 MB/s\u001b[0m eta \u001b[36m0:00:00\u001b[0m\n",
            "\u001b[?25hRequirement already satisfied: tensorflow-io-gcs-filesystem>=0.23.1 in /usr/local/lib/python3.10/dist-packages (from tf-nightly) (0.36.0)\n",
            "Requirement already satisfied: scipy>=1.6.0 in /usr/local/lib/python3.10/dist-packages (from scikit-learn) (1.11.4)\n",
            "Requirement already satisfied: joblib>=1.2.0 in /usr/local/lib/python3.10/dist-packages (from scikit-learn) (1.3.2)\n",
            "Requirement already satisfied: threadpoolctl>=2.0.0 in /usr/local/lib/python3.10/dist-packages (from scikit-learn) (3.3.0)\n",
            "Requirement already satisfied: wheel<1.0,>=0.23.0 in /usr/local/lib/python3.10/dist-packages (from astunparse>=1.6.0->tf-nightly) (0.42.0)\n",
            "Requirement already satisfied: contourpy>=1.0.1 in /usr/local/lib/python3.10/dist-packages (from matplotlib<4.0.0,>=3.7.1->temporian) (1.2.0)\n",
            "Requirement already satisfied: cycler>=0.10 in /usr/local/lib/python3.10/dist-packages (from matplotlib<4.0.0,>=3.7.1->temporian) (0.12.1)\n",
            "Requirement already satisfied: fonttools>=4.22.0 in /usr/local/lib/python3.10/dist-packages (from matplotlib<4.0.0,>=3.7.1->temporian) (4.49.0)\n",
            "Requirement already satisfied: kiwisolver>=1.0.1 in /usr/local/lib/python3.10/dist-packages (from matplotlib<4.0.0,>=3.7.1->temporian) (1.4.5)\n",
            "Requirement already satisfied: pillow>=6.2.0 in /usr/local/lib/python3.10/dist-packages (from matplotlib<4.0.0,>=3.7.1->temporian) (9.4.0)\n",
            "Requirement already satisfied: pyparsing>=2.3.1 in /usr/local/lib/python3.10/dist-packages (from matplotlib<4.0.0,>=3.7.1->temporian) (3.1.1)\n",
            "Requirement already satisfied: charset-normalizer<4,>=2 in /usr/local/lib/python3.10/dist-packages (from requests<3,>=2.21.0->tf-nightly) (3.3.2)\n",
            "Requirement already satisfied: idna<4,>=2.5 in /usr/local/lib/python3.10/dist-packages (from requests<3,>=2.21.0->tf-nightly) (3.6)\n",
            "Requirement already satisfied: urllib3<3,>=1.21.1 in /usr/local/lib/python3.10/dist-packages (from requests<3,>=2.21.0->tf-nightly) (2.0.7)\n",
            "Requirement already satisfied: certifi>=2017.4.17 in /usr/local/lib/python3.10/dist-packages (from requests<3,>=2.21.0->tf-nightly) (2024.2.2)\n",
            "Requirement already satisfied: markdown>=2.6.8 in /usr/local/lib/python3.10/dist-packages (from tb-nightly~=2.16.0.a->tf-nightly) (3.5.2)\n",
            "Requirement already satisfied: tensorboard-data-server<0.8.0,>=0.7.0 in /usr/local/lib/python3.10/dist-packages (from tb-nightly~=2.16.0.a->tf-nightly) (0.7.2)\n",
            "Collecting tf-keras-nightly (from tb-nightly~=2.16.0.a->tf-nightly)\n",
            "  Downloading tf_keras_nightly-2.17.0.dev2024030510-py3-none-any.whl (1.7 MB)\n",
            "\u001b[2K     \u001b[90m━━━━━━━━━━━━━━━━━━━━━━━━━━━━━━━━━━━━━━━━\u001b[0m \u001b[32m1.7/1.7 MB\u001b[0m \u001b[31m76.9 MB/s\u001b[0m eta \u001b[36m0:00:00\u001b[0m\n",
            "\u001b[?25hRequirement already satisfied: werkzeug>=1.0.1 in /usr/local/lib/python3.10/dist-packages (from tb-nightly~=2.16.0.a->tf-nightly) (3.0.1)\n",
            "Requirement already satisfied: markdown-it-py>=2.2.0 in /usr/local/lib/python3.10/dist-packages (from rich->keras) (3.0.0)\n",
            "Requirement already satisfied: pygments<3.0.0,>=2.13.0 in /usr/local/lib/python3.10/dist-packages (from rich->keras) (2.16.1)\n",
            "Requirement already satisfied: mdurl~=0.1 in /usr/local/lib/python3.10/dist-packages (from markdown-it-py>=2.2.0->rich->keras) (0.1.2)\n",
            "Requirement already satisfied: MarkupSafe>=2.1.1 in /usr/local/lib/python3.10/dist-packages (from werkzeug>=1.0.1->tb-nightly~=2.16.0.a->tf-nightly) (2.1.5)\n",
            "Collecting tf-nightly\n",
            "  Downloading tf_nightly-2.17.0.dev20240305-cp310-cp310-manylinux_2_17_x86_64.manylinux2014_x86_64.whl (578.7 MB)\n",
            "\u001b[2K     \u001b[90m━━━━━━━━━━━━━━━━━━━━━━━━━━━━━━━━━━━━━━━━\u001b[0m \u001b[32m578.7/578.7 MB\u001b[0m \u001b[31m2.4 MB/s\u001b[0m eta \u001b[36m0:00:00\u001b[0m\n",
            "\u001b[?25hCollecting tb-nightly~=2.17.0.a (from tf-nightly)\n",
            "  Downloading tb_nightly-2.17.0a20240305-py3-none-any.whl (5.5 MB)\n",
            "\u001b[2K     \u001b[90m━━━━━━━━━━━━━━━━━━━━━━━━━━━━━━━━━━━━━━━━\u001b[0m \u001b[32m5.5/5.5 MB\u001b[0m \u001b[31m22.0 MB/s\u001b[0m eta \u001b[36m0:00:00\u001b[0m\n",
            "\u001b[?25hCollecting keras-nightly~=3.1.0.dev (from tf-nightly)\n",
            "  Downloading keras_nightly-3.1.0.dev2024030603-py3-none-any.whl (1.0 MB)\n",
            "\u001b[2K     \u001b[90m━━━━━━━━━━━━━━━━━━━━━━━━━━━━━━━━━━━━━━━━\u001b[0m \u001b[32m1.0/1.0 MB\u001b[0m \u001b[31m20.3 MB/s\u001b[0m eta \u001b[36m0:00:00\u001b[0m\n",
            "\u001b[?25hInstalling collected packages: namex, tzdata, ml-dtypes, h5py, tb-nightly, scikit-learn, pandas, temporian, keras-nightly, keras, tf-nightly\n",
            "  Attempting uninstall: ml-dtypes\n",
            "    Found existing installation: ml-dtypes 0.2.0\n",
            "    Uninstalling ml-dtypes-0.2.0:\n",
            "      Successfully uninstalled ml-dtypes-0.2.0\n",
            "  Attempting uninstall: h5py\n",
            "    Found existing installation: h5py 3.9.0\n",
            "    Uninstalling h5py-3.9.0:\n",
            "      Successfully uninstalled h5py-3.9.0\n",
            "  Attempting uninstall: scikit-learn\n",
            "    Found existing installation: scikit-learn 1.2.2\n",
            "    Uninstalling scikit-learn-1.2.2:\n",
            "      Successfully uninstalled scikit-learn-1.2.2\n",
            "  Attempting uninstall: pandas\n",
            "    Found existing installation: pandas 1.5.3\n",
            "    Uninstalling pandas-1.5.3:\n",
            "      Successfully uninstalled pandas-1.5.3\n",
            "  Attempting uninstall: keras\n",
            "    Found existing installation: keras 2.15.0\n",
            "    Uninstalling keras-2.15.0:\n",
            "      Successfully uninstalled keras-2.15.0\n",
            "\u001b[31mERROR: pip's dependency resolver does not currently take into account all the packages that are installed. This behaviour is the source of the following dependency conflicts.\n",
            "bigframes 0.22.0 requires pandas<2.1.4,>=1.5.0, but you have pandas 2.2.1 which is incompatible.\n",
            "google-colab 1.0.0 requires pandas==1.5.3, but you have pandas 2.2.1 which is incompatible.\n",
            "tensorflow 2.15.0 requires keras<2.16,>=2.15.0, but you have keras 3.0.5 which is incompatible.\n",
            "tensorflow 2.15.0 requires ml-dtypes~=0.2.0, but you have ml-dtypes 0.3.2 which is incompatible.\u001b[0m\u001b[31m\n",
            "\u001b[0mSuccessfully installed h5py-3.10.0 keras-3.0.5 keras-nightly-3.1.0.dev2024030603 ml-dtypes-0.3.2 namex-0.0.7 pandas-2.2.1 scikit-learn-1.4.1.post1 tb-nightly-2.17.0a20240305 temporian-0.7.0 tf-nightly-2.17.0.dev20240305 tzdata-2024.1\n"
          ]
        }
      ]
    },
    {
      "cell_type": "code",
      "execution_count": 2,
      "metadata": {
        "id": "VfoFBXJ_d0iv"
      },
      "outputs": [],
      "source": [
        "import keras  # To train the Machine Learning model\n",
        "import temporian as tp  # To convert transactions into tabular data\n",
        "\n",
        "import numpy as np\n",
        "import os\n",
        "import pandas as pd\n",
        "import datetime\n",
        "import math\n",
        "import tensorflow as tf\n",
        "from sklearn.metrics import RocCurveDisplay"
      ]
    },
    {
      "cell_type": "markdown",
      "metadata": {
        "id": "j2ZRA4H-d0iw"
      },
      "source": [
        "## Introduction\n",
        "\n",
        "Payment fraud detection is critical for banks, businesses, and consumers. In\n",
        "Europe alone, fraudulent transactions were estimated at\n",
        "[€1.89 billion in 2019](https://www.ecb.europa.eu/pub/pdf/cardfraud/ecb.cardfraudreport202110~cac4c418e8.en.pdf).\n",
        "Worldwide, approximately\n",
        "[3.6%](https://www.cybersource.com/content/dam/documents/campaign/fraud-report/global-fraud-report-2022.pdf)\n",
        "of commerce revenue is lost to fraud. In this notebook, we train and evaluate a\n",
        "model to detect fraudulent transactions using the synthetic dataset attached to\n",
        "the book\n",
        "[Reproducible Machine Learning for Credit Card Fraud Detection](https://fraud-detection-handbook.github.io/fraud-detection-handbook/Foreword.html)\n",
        "by Le Borgne et al.\n",
        "\n",
        "Fraudulent transactions often cannot be detected by looking at transactions in\n",
        "isolation. Instead, fraudulent transactions are detected by looking at patterns\n",
        "across multiple transactions from the same user, to the same merchant, or with\n",
        "other types of relationships. To express these relationships in a way that is\n",
        "understandable by a machine learning model, and to augment features with feature\n",
        " engineering, we We use the\n",
        " [Temporian](https://temporian.readthedocs.io/en/latest) preprocessing library.\n",
        "\n",
        "We preprocess a transaction dataset into a tabular dataset and use a\n",
        "feed-forward neural network to learn the patterns of fraud and make predictions.\n",
        "\n",
        "## Loading the dataset\n",
        "\n",
        "The dataset contains payment transactions sampled between April 1, 2018 and\n",
        "September 30, 2018. The transactions are stored in CSV files, one for each day.\n",
        "\n",
        "**Note:** Downloading the dataset takes ~1 minute."
      ]
    },
    {
      "cell_type": "code",
      "execution_count": 3,
      "metadata": {
        "id": "X4uZ61bhd0iw",
        "colab": {
          "base_uri": "https://localhost:8080/"
        },
        "outputId": "f2aac8f0-b6a6-46ec-a845-0908b99b5e42"
      },
      "outputs": [
        {
          "output_type": "stream",
          "name": "stdout",
          "text": [
            "Download dataset\n",
            "[0%]..................[10%]..................[20%]..................[30%]..................[40%]..................[50%]..................[59%]..................[69%]..................[79%]..................[89%]..................[99%]...done\n",
            "Found 1754155 transactions\n"
          ]
        }
      ],
      "source": [
        "start_date = datetime.date(2018, 4, 1)\n",
        "end_date = datetime.date(2018, 9, 30)\n",
        "\n",
        "# Load the dataset as a Pandas dataframe.\n",
        "cache_path = \"fraud_detection_cache.csv\"\n",
        "if not os.path.exists(cache_path):\n",
        "    print(\"Download dataset\")\n",
        "    dataframes = []\n",
        "    num_files = (end_date - start_date).days\n",
        "    counter = 0\n",
        "    while start_date <= end_date:\n",
        "        if counter % (num_files // 10) == 0:\n",
        "            print(f\"[{100 * (counter+1) // num_files}%]\", end=\"\", flush=True)\n",
        "        print(\".\", end=\"\", flush=True)\n",
        "        url = f\"https://github.com/Fraud-Detection-Handbook/simulated-data-raw/raw/6e67dbd0a3bfe0d7ec33abc4bce5f37cd4ff0d6a/data/{start_date}.pkl\"\n",
        "        dataframes.append(pd.read_pickle(url))\n",
        "        start_date += datetime.timedelta(days=1)\n",
        "        counter += 1\n",
        "    print(\"done\", flush=True)\n",
        "    transactions_dataframe = pd.concat(dataframes)\n",
        "    transactions_dataframe.to_csv(cache_path, index=False)\n",
        "else:\n",
        "    print(\"Load dataset from cache\")\n",
        "    transactions_dataframe = pd.read_csv(\n",
        "        cache_path, dtype={\"CUSTOMER_ID\": bytes, \"TERMINAL_ID\": bytes}\n",
        "    )\n",
        "\n",
        "print(f\"Found {len(transactions_dataframe)} transactions\")"
      ]
    },
    {
      "cell_type": "markdown",
      "metadata": {
        "id": "5TNaY0tgd0iw"
      },
      "source": [
        "Each transaction is represented by a single row, with the following columns of\n",
        "interest:\n",
        "\n",
        "- **TX_DATETIME**: The date and time of the transaction.\n",
        "- **CUSTOMER_ID**: The unique identifier of the customer.\n",
        "- **TERMINAL_ID**: The identifier of the terminal where the transaction was\n",
        "    made.\n",
        "- **TX_AMOUNT**: The amount of the transaction.\n",
        "- **TX_FRAUD**: Whether the transaction is fraudulent (1) or not (0)."
      ]
    },
    {
      "cell_type": "code",
      "execution_count": 5,
      "metadata": {
        "id": "LIhi1M2ud0iw",
        "colab": {
          "base_uri": "https://localhost:8080/",
          "height": 175
        },
        "outputId": "18fa69bf-f063-4bae-c744-4c9504ab4722"
      },
      "outputs": [
        {
          "output_type": "execute_result",
          "data": {
            "text/plain": [
              "          TX_DATETIME CUSTOMER_ID TERMINAL_ID  TX_AMOUNT  TX_FRAUD\n",
              "0 2018-04-01 00:00:31         596        3156      57.16         0\n",
              "1 2018-04-01 00:02:10        4961        3412      81.51         0\n",
              "2 2018-04-01 00:07:56           2        1365     146.00         0\n",
              "3 2018-04-01 00:09:29        4128        8737      64.49         0"
            ],
            "text/html": [
              "\n",
              "  <div id=\"df-3b3db704-0e8d-4c67-8f1c-66c24dea15b7\" class=\"colab-df-container\">\n",
              "    <div>\n",
              "<style scoped>\n",
              "    .dataframe tbody tr th:only-of-type {\n",
              "        vertical-align: middle;\n",
              "    }\n",
              "\n",
              "    .dataframe tbody tr th {\n",
              "        vertical-align: top;\n",
              "    }\n",
              "\n",
              "    .dataframe thead th {\n",
              "        text-align: right;\n",
              "    }\n",
              "</style>\n",
              "<table border=\"1\" class=\"dataframe\">\n",
              "  <thead>\n",
              "    <tr style=\"text-align: right;\">\n",
              "      <th></th>\n",
              "      <th>TX_DATETIME</th>\n",
              "      <th>CUSTOMER_ID</th>\n",
              "      <th>TERMINAL_ID</th>\n",
              "      <th>TX_AMOUNT</th>\n",
              "      <th>TX_FRAUD</th>\n",
              "    </tr>\n",
              "  </thead>\n",
              "  <tbody>\n",
              "    <tr>\n",
              "      <th>0</th>\n",
              "      <td>2018-04-01 00:00:31</td>\n",
              "      <td>596</td>\n",
              "      <td>3156</td>\n",
              "      <td>57.16</td>\n",
              "      <td>0</td>\n",
              "    </tr>\n",
              "    <tr>\n",
              "      <th>1</th>\n",
              "      <td>2018-04-01 00:02:10</td>\n",
              "      <td>4961</td>\n",
              "      <td>3412</td>\n",
              "      <td>81.51</td>\n",
              "      <td>0</td>\n",
              "    </tr>\n",
              "    <tr>\n",
              "      <th>2</th>\n",
              "      <td>2018-04-01 00:07:56</td>\n",
              "      <td>2</td>\n",
              "      <td>1365</td>\n",
              "      <td>146.00</td>\n",
              "      <td>0</td>\n",
              "    </tr>\n",
              "    <tr>\n",
              "      <th>3</th>\n",
              "      <td>2018-04-01 00:09:29</td>\n",
              "      <td>4128</td>\n",
              "      <td>8737</td>\n",
              "      <td>64.49</td>\n",
              "      <td>0</td>\n",
              "    </tr>\n",
              "  </tbody>\n",
              "</table>\n",
              "</div>\n",
              "    <div class=\"colab-df-buttons\">\n",
              "\n",
              "  <div class=\"colab-df-container\">\n",
              "    <button class=\"colab-df-convert\" onclick=\"convertToInteractive('df-3b3db704-0e8d-4c67-8f1c-66c24dea15b7')\"\n",
              "            title=\"Convert this dataframe to an interactive table.\"\n",
              "            style=\"display:none;\">\n",
              "\n",
              "  <svg xmlns=\"http://www.w3.org/2000/svg\" height=\"24px\" viewBox=\"0 -960 960 960\">\n",
              "    <path d=\"M120-120v-720h720v720H120Zm60-500h600v-160H180v160Zm220 220h160v-160H400v160Zm0 220h160v-160H400v160ZM180-400h160v-160H180v160Zm440 0h160v-160H620v160ZM180-180h160v-160H180v160Zm440 0h160v-160H620v160Z\"/>\n",
              "  </svg>\n",
              "    </button>\n",
              "\n",
              "  <style>\n",
              "    .colab-df-container {\n",
              "      display:flex;\n",
              "      gap: 12px;\n",
              "    }\n",
              "\n",
              "    .colab-df-convert {\n",
              "      background-color: #E8F0FE;\n",
              "      border: none;\n",
              "      border-radius: 50%;\n",
              "      cursor: pointer;\n",
              "      display: none;\n",
              "      fill: #1967D2;\n",
              "      height: 32px;\n",
              "      padding: 0 0 0 0;\n",
              "      width: 32px;\n",
              "    }\n",
              "\n",
              "    .colab-df-convert:hover {\n",
              "      background-color: #E2EBFA;\n",
              "      box-shadow: 0px 1px 2px rgba(60, 64, 67, 0.3), 0px 1px 3px 1px rgba(60, 64, 67, 0.15);\n",
              "      fill: #174EA6;\n",
              "    }\n",
              "\n",
              "    .colab-df-buttons div {\n",
              "      margin-bottom: 4px;\n",
              "    }\n",
              "\n",
              "    [theme=dark] .colab-df-convert {\n",
              "      background-color: #3B4455;\n",
              "      fill: #D2E3FC;\n",
              "    }\n",
              "\n",
              "    [theme=dark] .colab-df-convert:hover {\n",
              "      background-color: #434B5C;\n",
              "      box-shadow: 0px 1px 3px 1px rgba(0, 0, 0, 0.15);\n",
              "      filter: drop-shadow(0px 1px 2px rgba(0, 0, 0, 0.3));\n",
              "      fill: #FFFFFF;\n",
              "    }\n",
              "  </style>\n",
              "\n",
              "    <script>\n",
              "      const buttonEl =\n",
              "        document.querySelector('#df-3b3db704-0e8d-4c67-8f1c-66c24dea15b7 button.colab-df-convert');\n",
              "      buttonEl.style.display =\n",
              "        google.colab.kernel.accessAllowed ? 'block' : 'none';\n",
              "\n",
              "      async function convertToInteractive(key) {\n",
              "        const element = document.querySelector('#df-3b3db704-0e8d-4c67-8f1c-66c24dea15b7');\n",
              "        const dataTable =\n",
              "          await google.colab.kernel.invokeFunction('convertToInteractive',\n",
              "                                                    [key], {});\n",
              "        if (!dataTable) return;\n",
              "\n",
              "        const docLinkHtml = 'Like what you see? Visit the ' +\n",
              "          '<a target=\"_blank\" href=https://colab.research.google.com/notebooks/data_table.ipynb>data table notebook</a>'\n",
              "          + ' to learn more about interactive tables.';\n",
              "        element.innerHTML = '';\n",
              "        dataTable['output_type'] = 'display_data';\n",
              "        await google.colab.output.renderOutput(dataTable, element);\n",
              "        const docLink = document.createElement('div');\n",
              "        docLink.innerHTML = docLinkHtml;\n",
              "        element.appendChild(docLink);\n",
              "      }\n",
              "    </script>\n",
              "  </div>\n",
              "\n",
              "\n",
              "<div id=\"df-5af88682-27ba-4e24-a361-77caad0f310e\">\n",
              "  <button class=\"colab-df-quickchart\" onclick=\"quickchart('df-5af88682-27ba-4e24-a361-77caad0f310e')\"\n",
              "            title=\"Suggest charts\"\n",
              "            style=\"display:none;\">\n",
              "\n",
              "<svg xmlns=\"http://www.w3.org/2000/svg\" height=\"24px\"viewBox=\"0 0 24 24\"\n",
              "     width=\"24px\">\n",
              "    <g>\n",
              "        <path d=\"M19 3H5c-1.1 0-2 .9-2 2v14c0 1.1.9 2 2 2h14c1.1 0 2-.9 2-2V5c0-1.1-.9-2-2-2zM9 17H7v-7h2v7zm4 0h-2V7h2v10zm4 0h-2v-4h2v4z\"/>\n",
              "    </g>\n",
              "</svg>\n",
              "  </button>\n",
              "\n",
              "<style>\n",
              "  .colab-df-quickchart {\n",
              "      --bg-color: #E8F0FE;\n",
              "      --fill-color: #1967D2;\n",
              "      --hover-bg-color: #E2EBFA;\n",
              "      --hover-fill-color: #174EA6;\n",
              "      --disabled-fill-color: #AAA;\n",
              "      --disabled-bg-color: #DDD;\n",
              "  }\n",
              "\n",
              "  [theme=dark] .colab-df-quickchart {\n",
              "      --bg-color: #3B4455;\n",
              "      --fill-color: #D2E3FC;\n",
              "      --hover-bg-color: #434B5C;\n",
              "      --hover-fill-color: #FFFFFF;\n",
              "      --disabled-bg-color: #3B4455;\n",
              "      --disabled-fill-color: #666;\n",
              "  }\n",
              "\n",
              "  .colab-df-quickchart {\n",
              "    background-color: var(--bg-color);\n",
              "    border: none;\n",
              "    border-radius: 50%;\n",
              "    cursor: pointer;\n",
              "    display: none;\n",
              "    fill: var(--fill-color);\n",
              "    height: 32px;\n",
              "    padding: 0;\n",
              "    width: 32px;\n",
              "  }\n",
              "\n",
              "  .colab-df-quickchart:hover {\n",
              "    background-color: var(--hover-bg-color);\n",
              "    box-shadow: 0 1px 2px rgba(60, 64, 67, 0.3), 0 1px 3px 1px rgba(60, 64, 67, 0.15);\n",
              "    fill: var(--button-hover-fill-color);\n",
              "  }\n",
              "\n",
              "  .colab-df-quickchart-complete:disabled,\n",
              "  .colab-df-quickchart-complete:disabled:hover {\n",
              "    background-color: var(--disabled-bg-color);\n",
              "    fill: var(--disabled-fill-color);\n",
              "    box-shadow: none;\n",
              "  }\n",
              "\n",
              "  .colab-df-spinner {\n",
              "    border: 2px solid var(--fill-color);\n",
              "    border-color: transparent;\n",
              "    border-bottom-color: var(--fill-color);\n",
              "    animation:\n",
              "      spin 1s steps(1) infinite;\n",
              "  }\n",
              "\n",
              "  @keyframes spin {\n",
              "    0% {\n",
              "      border-color: transparent;\n",
              "      border-bottom-color: var(--fill-color);\n",
              "      border-left-color: var(--fill-color);\n",
              "    }\n",
              "    20% {\n",
              "      border-color: transparent;\n",
              "      border-left-color: var(--fill-color);\n",
              "      border-top-color: var(--fill-color);\n",
              "    }\n",
              "    30% {\n",
              "      border-color: transparent;\n",
              "      border-left-color: var(--fill-color);\n",
              "      border-top-color: var(--fill-color);\n",
              "      border-right-color: var(--fill-color);\n",
              "    }\n",
              "    40% {\n",
              "      border-color: transparent;\n",
              "      border-right-color: var(--fill-color);\n",
              "      border-top-color: var(--fill-color);\n",
              "    }\n",
              "    60% {\n",
              "      border-color: transparent;\n",
              "      border-right-color: var(--fill-color);\n",
              "    }\n",
              "    80% {\n",
              "      border-color: transparent;\n",
              "      border-right-color: var(--fill-color);\n",
              "      border-bottom-color: var(--fill-color);\n",
              "    }\n",
              "    90% {\n",
              "      border-color: transparent;\n",
              "      border-bottom-color: var(--fill-color);\n",
              "    }\n",
              "  }\n",
              "</style>\n",
              "\n",
              "  <script>\n",
              "    async function quickchart(key) {\n",
              "      const quickchartButtonEl =\n",
              "        document.querySelector('#' + key + ' button');\n",
              "      quickchartButtonEl.disabled = true;  // To prevent multiple clicks.\n",
              "      quickchartButtonEl.classList.add('colab-df-spinner');\n",
              "      try {\n",
              "        const charts = await google.colab.kernel.invokeFunction(\n",
              "            'suggestCharts', [key], {});\n",
              "      } catch (error) {\n",
              "        console.error('Error during call to suggestCharts:', error);\n",
              "      }\n",
              "      quickchartButtonEl.classList.remove('colab-df-spinner');\n",
              "      quickchartButtonEl.classList.add('colab-df-quickchart-complete');\n",
              "    }\n",
              "    (() => {\n",
              "      let quickchartButtonEl =\n",
              "        document.querySelector('#df-5af88682-27ba-4e24-a361-77caad0f310e button');\n",
              "      quickchartButtonEl.style.display =\n",
              "        google.colab.kernel.accessAllowed ? 'block' : 'none';\n",
              "    })();\n",
              "  </script>\n",
              "</div>\n",
              "\n",
              "    </div>\n",
              "  </div>\n"
            ],
            "application/vnd.google.colaboratory.intrinsic+json": {
              "type": "dataframe",
              "variable_name": "transactions_dataframe"
            }
          },
          "metadata": {},
          "execution_count": 5
        }
      ],
      "source": [
        "transactions_dataframe = transactions_dataframe[\n",
        "    [\"TX_DATETIME\", \"CUSTOMER_ID\", \"TERMINAL_ID\", \"TX_AMOUNT\", \"TX_FRAUD\"]\n",
        "]\n",
        "\n",
        "transactions_dataframe.head(4)"
      ]
    },
    {
      "cell_type": "markdown",
      "metadata": {
        "id": "yZK2dNOrd0ix"
      },
      "source": [
        "The dataset is highly imbalanced, with the majority of transactions being\n",
        "legitimate."
      ]
    },
    {
      "cell_type": "code",
      "execution_count": 6,
      "metadata": {
        "id": "p5EMJJkSd0ix",
        "colab": {
          "base_uri": "https://localhost:8080/"
        },
        "outputId": "e1f51bdb-7d15-4214-9af9-d6e9b948caf9"
      },
      "outputs": [
        {
          "output_type": "stream",
          "name": "stdout",
          "text": [
            "Rate of fraudulent transactions: 0.008369271814634397\n"
          ]
        }
      ],
      "source": [
        "fraudulent_rate = transactions_dataframe[\"TX_FRAUD\"].mean()\n",
        "print(\"Rate of fraudulent transactions:\", fraudulent_rate)"
      ]
    },
    {
      "cell_type": "markdown",
      "metadata": {
        "id": "660RhibPd0ix"
      },
      "source": [
        "The\n",
        "[pandas dataframe](https://pandas.pydata.org/docs/reference/api/pandas.DataFrame.html)\n",
        "is converted into a\n",
        "[Temporian EventSet](https://temporian.readthedocs.io/en/latest/reference/temporian/EventSet/),\n",
        "which is better suited for the data exploration and feature preprocessing of the\n",
        " next steps."
      ]
    },
    {
      "cell_type": "code",
      "execution_count": 7,
      "metadata": {
        "id": "vS5PS55dd0ix",
        "colab": {
          "base_uri": "https://localhost:8080/",
          "height": 325
        },
        "outputId": "7d3e7d32-1f50-4ae2-dbf2-b9bc9483c3fd"
      },
      "outputs": [
        {
          "output_type": "stream",
          "name": "stderr",
          "text": [
            "WARNING:root:Feature \"CUSTOMER_ID\" is an array of numpy.object_ and will be casted to numpy.string_ (Note: numpy.string_ is equivalent to numpy.bytes_).\n",
            "WARNING:root:Feature \"TERMINAL_ID\" is an array of numpy.object_ and will be casted to numpy.string_ (Note: numpy.string_ is equivalent to numpy.bytes_).\n"
          ]
        },
        {
          "output_type": "execute_result",
          "data": {
            "text/plain": [
              "indexes: []\n",
              "features: [('CUSTOMER_ID', str_), ('TERMINAL_ID', str_), ('TX_AMOUNT', float64), ('TX_FRAUD', int64)]\n",
              "events:\n",
              "     (1754155 events):\n",
              "        timestamps: ['2018-04-01T00:00:31' '2018-04-01T00:02:10' '2018-04-01T00:07:56' ...\n",
              "     '2018-09-30T23:58:21' '2018-09-30T23:59:52' '2018-09-30T23:59:57']\n",
              "        'CUSTOMER_ID': [b'596' b'4961' b'2' ... b'618' b'4056' b'3542']\n",
              "        'TERMINAL_ID': [b'3156' b'3412' b'1365' ... b'1502' b'3067' b'9849']\n",
              "        'TX_AMOUNT': [ 57.16  81.51 146.   ...   6.62  55.4   23.59]\n",
              "        'TX_FRAUD': [0 0 0 ... 0 0 0]\n",
              "memory usage: 28.1 MB"
            ],
            "text/html": [
              "<div>\n",
              "  <div style=\"display: table; margin-bottom:11px; padding:5px; font-size:small; line-height:120%; border:1px solid rgba(127, 127, 127, 0.2)\">\n",
              "    <div style=\"display: table\">\n",
              "      <span>\n",
              "        <span style=\"font-weight:bold\">features</span>\n",
              "        <span style=\"\"> [4]:</span>\n",
              "      </span>\n",
              "      <span style=\"color:#0077BB; font-weight:bold\">CUSTOMER_ID</span>\n",
              "      <span style=\"color:#009988\"> (str_)</span>\n",
              "      <span style=\"\">, </span>\n",
              "      <span style=\"color:#0077BB; font-weight:bold\">TERMINAL_ID</span>\n",
              "      <span style=\"color:#009988\"> (str_)</span>\n",
              "      <span style=\"\">, </span>\n",
              "      <span style=\"color:#0077BB; font-weight:bold\">TX_AMOUNT</span>\n",
              "      <span style=\"color:#009988\"> (float64)</span>\n",
              "      <span style=\"\">, </span>\n",
              "      <span style=\"color:#0077BB; font-weight:bold\">TX_FRAUD</span>\n",
              "      <span style=\"color:#009988\"> (int64)</span>\n",
              "    </div>\n",
              "    <div style=\"display: table\">\n",
              "      <span>\n",
              "        <span style=\"font-weight:bold\">indexes</span>\n",
              "        <span style=\"\"> [0]:</span>\n",
              "      </span>\n",
              "      <span style=\"font-style:italic\">none</span>\n",
              "    </div>\n",
              "    <div style=\"display: table\">\n",
              "      <span style=\"font-weight:bold\">events: </span>\n",
              "      <span style=\"\">1754155</span>\n",
              "    </div>\n",
              "    <div style=\"display: table\">\n",
              "      <span style=\"font-weight:bold\">index values: </span>\n",
              "      <span style=\"\">1</span>\n",
              "    </div>\n",
              "    <div style=\"display: table\">\n",
              "      <span style=\"font-weight:bold\">memory usage: </span>\n",
              "      <span style=\"\">28.1 MB</span>\n",
              "    </div>\n",
              "  </div>\n",
              "  <div style=\"display: table\">\n",
              "    <span style=\"font-weight:bold\">index</span>\n",
              "    <span style=\"\"> (</span>\n",
              "    <span style=\"\">) with 1754155 events</span>\n",
              "  </div>\n",
              "  <table style=\"margin-left:20px; border:1px solid rgba(127, 127, 127, 0.2)\">\n",
              "    <tr>\n",
              "      <th>\n",
              "        <b>\n",
              "          <span style=\"\">timestamp</span>\n",
              "        </b>\n",
              "      </th>\n",
              "      <th>\n",
              "        <b>\n",
              "          <span style=\"color:#0077BB; font-weight:bold; \">CUSTOMER_ID</span>\n",
              "        </b>\n",
              "      </th>\n",
              "      <th>\n",
              "        <b>\n",
              "          <span style=\"color:#0077BB; font-weight:bold; \">TERMINAL_ID</span>\n",
              "        </b>\n",
              "      </th>\n",
              "      <th>\n",
              "        <b>\n",
              "          <span style=\"color:#0077BB; font-weight:bold; \">TX_AMOUNT</span>\n",
              "        </b>\n",
              "      </th>\n",
              "      <th>\n",
              "        <b>\n",
              "          <span style=\"color:#0077BB; font-weight:bold; \">TX_FRAUD</span>\n",
              "        </b>\n",
              "      </th>\n",
              "    </tr>\n",
              "    <tr>\n",
              "      <td>\n",
              "        <span style=\"\">2018-04-01 00:00:31+00:00</span>\n",
              "      </td>\n",
              "      <td>\n",
              "        <span style=\"\">596</span>\n",
              "      </td>\n",
              "      <td>\n",
              "        <span style=\"\">3156</span>\n",
              "      </td>\n",
              "      <td>\n",
              "        <span style=\"\">57.16</span>\n",
              "      </td>\n",
              "      <td>\n",
              "        <span style=\"\">0</span>\n",
              "      </td>\n",
              "    </tr>\n",
              "    <tr>\n",
              "      <td>\n",
              "        <span style=\"\">2018-04-01 00:02:10+00:00</span>\n",
              "      </td>\n",
              "      <td>\n",
              "        <span style=\"\">4961</span>\n",
              "      </td>\n",
              "      <td>\n",
              "        <span style=\"\">3412</span>\n",
              "      </td>\n",
              "      <td>\n",
              "        <span style=\"\">81.51</span>\n",
              "      </td>\n",
              "      <td>\n",
              "        <span style=\"\">0</span>\n",
              "      </td>\n",
              "    </tr>\n",
              "    <tr>\n",
              "      <td>\n",
              "        <span style=\"\">2018-04-01 00:07:56+00:00</span>\n",
              "      </td>\n",
              "      <td>\n",
              "        <span style=\"\">2</span>\n",
              "      </td>\n",
              "      <td>\n",
              "        <span style=\"\">1365</span>\n",
              "      </td>\n",
              "      <td>\n",
              "        <span style=\"\">146</span>\n",
              "      </td>\n",
              "      <td>\n",
              "        <span style=\"\">0</span>\n",
              "      </td>\n",
              "    </tr>\n",
              "    <tr>\n",
              "      <td>\n",
              "        <span style=\"\">2018-04-01 00:09:29+00:00</span>\n",
              "      </td>\n",
              "      <td>\n",
              "        <span style=\"\">4128</span>\n",
              "      </td>\n",
              "      <td>\n",
              "        <span style=\"\">8737</span>\n",
              "      </td>\n",
              "      <td>\n",
              "        <span style=\"\">64.49</span>\n",
              "      </td>\n",
              "      <td>\n",
              "        <span style=\"\">0</span>\n",
              "      </td>\n",
              "    </tr>\n",
              "    <tr>\n",
              "      <td>\n",
              "        <span style=\"\">2018-04-01 00:10:34+00:00</span>\n",
              "      </td>\n",
              "      <td>\n",
              "        <span style=\"\">927</span>\n",
              "      </td>\n",
              "      <td>\n",
              "        <span style=\"\">9906</span>\n",
              "      </td>\n",
              "      <td>\n",
              "        <span style=\"\">50.99</span>\n",
              "      </td>\n",
              "      <td>\n",
              "        <span style=\"\">0</span>\n",
              "      </td>\n",
              "    </tr>\n",
              "    <tr>\n",
              "      <td>\n",
              "        <span style=\"\">…</span>\n",
              "      </td>\n",
              "      <td>\n",
              "        <span style=\"\">…</span>\n",
              "      </td>\n",
              "      <td>\n",
              "        <span style=\"\">…</span>\n",
              "      </td>\n",
              "      <td>\n",
              "        <span style=\"\">…</span>\n",
              "      </td>\n",
              "      <td>\n",
              "        <span style=\"\">…</span>\n",
              "      </td>\n",
              "    </tr>\n",
              "  </table>\n",
              "</div>\n"
            ]
          },
          "metadata": {},
          "execution_count": 7
        }
      ],
      "source": [
        "transactions_evset = tp.from_pandas(transactions_dataframe, timestamps=\"TX_DATETIME\")\n",
        "\n",
        "transactions_evset"
      ]
    },
    {
      "cell_type": "markdown",
      "metadata": {
        "id": "2zKURTu0d0ix"
      },
      "source": [
        "It is possible to plot the entire dataset, but the resulting plot will be\n",
        "difficult to read. Instead, we can group the transactions per client."
      ]
    },
    {
      "cell_type": "code",
      "execution_count": 8,
      "metadata": {
        "id": "m_C5GZb4d0ix",
        "colab": {
          "base_uri": "https://localhost:8080/",
          "height": 457
        },
        "outputId": "cc7098f9-a52f-4f63-d4a5-32e23f85473c"
      },
      "outputs": [
        {
          "output_type": "display_data",
          "data": {
            "text/plain": [
              "<Figure size 1024x450 with 3 Axes>"
            ],
            "image/png": "[encoded data removed]"
          },
          "metadata": {}
        }
      ],
      "source": [
        "transactions_evset.add_index(\"CUSTOMER_ID\").plot(indexes=\"3774\")"
      ]
    },
    {
      "cell_type": "markdown",
      "metadata": {
        "id": "pnWbJlcwd0ix"
      },
      "source": [
        "Note the few fraudulent transactions for this client.\n",
        "\n",
        "## Preparing the training data\n",
        "\n",
        "Fraudulent transactions in isolation cannot be detected. Instead, we need to\n",
        "connect related transactions. For each transaction, we compute the sum and count\n",
        "of transactions for the same terminal in the last `n` days. Because we don't\n",
        "know the correct value for `n`, we use multiple values for `n` and compute a\n",
        "set of features for each of them."
      ]
    },
    {
      "cell_type": "code",
      "execution_count": 9,
      "metadata": {
        "id": "rxBqP6qKd0ix",
        "colab": {
          "base_uri": "https://localhost:8080/",
          "height": 834
        },
        "outputId": "0fe8c716-1a16-488e-ad80-b2474d979f38"
      },
      "outputs": [
        {
          "output_type": "execute_result",
          "data": {
            "text/plain": [
              "indexes: [('TERMINAL_ID', str_)]\n",
              "features: [('sum_transactions_7_days', float64), ('count_transactions_7_days', int32), ('sum_transactions_14_days', float64), ('count_transactions_14_days', int32), ('sum_transactions_28_days', float64), ('count_transactions_28_days', int32)]\n",
              "events:\n",
              "    TERMINAL_ID=b'0' (178 events):\n",
              "        timestamps: ['2018-04-02T01:00:01' '2018-04-02T09:49:55' '2018-04-03T12:14:41' ...\n",
              "     '2018-09-29T05:49:27' '2018-09-29T11:12:46' '2018-09-30T06:29:54']\n",
              "        'sum_transactions_7_days': [ 16.07  83.9  110.72 ... 871.6  910.36 799.27]\n",
              "        'count_transactions_7_days': [ 1  2  3 ... 11 12 12]\n",
              "        'sum_transactions_14_days': [  16.07   83.9   110.72 ... 1392.01 1430.77 1479.48]\n",
              "        'count_transactions_14_days': [ 1  2  3 ... 19 20 21]\n",
              "        'sum_transactions_28_days': [  16.07   83.9   110.72 ... 2344.72 2383.48 2417.86]\n",
              "        'count_transactions_28_days': [ 1  2  3 ... 36 37 37]\n",
              "    TERMINAL_ID=b'1' (139 events):\n",
              "        timestamps: ['2018-04-01T16:24:39' '2018-04-02T11:25:03' '2018-04-04T08:31:48' ...\n",
              "     '2018-09-25T09:13:17' '2018-09-26T19:08:41' '2018-09-30T13:41:36']\n",
              "        'sum_transactions_7_days': [ 70.36  87.79 211.58 ... 237.2  276.51 367.09]\n",
              "        'count_transactions_7_days': [1 2 3 ... 4 5 6]\n",
              "        'sum_transactions_14_days': [ 70.36  87.79 211.58 ... 464.6  490.25 405.84]\n",
              "        'count_transactions_14_days': [ 1  2  3 ... 11 11  8]\n",
              "        'sum_transactions_28_days': [  70.36   87.79  211.58 ... 1135.72 1112.6  1203.18]\n",
              "        'count_transactions_28_days': [ 1  2  3 ... 20 20 21]\n",
              "    TERMINAL_ID=b'10' (151 events):\n",
              "        timestamps: ['2018-04-01T14:11:55' '2018-04-02T11:01:07' '2018-04-03T13:46:58' ...\n",
              "     '2018-09-27T07:06:25' '2018-09-28T07:19:01' '2018-09-29T06:40:23']\n",
              "        'sum_transactions_7_days': [  2.9   17.04 118.18 ... 512.83 604.33 619.6 ]\n",
              "        'count_transactions_7_days': [ 1  2  3 ... 12 13 14]\n",
              "        'sum_transactions_14_days': [  2.9   17.04 118.18 ... 870.14 936.23 938.6 ]\n",
              "        'count_transactions_14_days': [ 1  2  3 ... 21 21 21]\n",
              "        'sum_transactions_28_days': [   2.9    17.04  118.18 ... 1262.62 1354.12 1369.39]\n",
              "        'count_transactions_28_days': [ 1  2  3 ... 29 30 31]\n",
              "    TERMINAL_ID=b'100' (188 events):\n",
              "        timestamps: ['2018-04-02T10:37:42' '2018-04-04T19:14:23' '2018-04-07T04:01:22' ...\n",
              "     '2018-09-29T07:29:50' '2018-09-29T10:50:07' '2018-09-29T12:29:01']\n",
              "        'sum_transactions_7_days': [  6.31  12.26  65.12 ... 638.49 651.31 683.65]\n",
              "        'count_transactions_7_days': [ 1  2  3 ... 11 12 13]\n",
              "        'sum_transactions_14_days': [   6.31   12.26   65.12 ... 1037.27 1050.09 1030.11]\n",
              "        'count_transactions_14_days': [ 1  2  3 ... 18 19 18]\n",
              "        'sum_transactions_28_days': [   6.31   12.26   65.12 ... 1933.14 1944.24 1976.58]\n",
              "        'count_transactions_28_days': [ 1  2  3 ... 37 37 38]\n",
              "    ... (showing 4 of 10000 indexes)\n",
              "memory usage: 85.8 MB"
            ],
            "text/html": [
              "<div>\n",
              "  <div style=\"display: table; margin-bottom:11px; padding:5px; font-size:small; line-height:120%; border:1px solid rgba(127, 127, 127, 0.2)\">\n",
              "    <div style=\"display: table\">\n",
              "      <span>\n",
              "        <span style=\"font-weight:bold\">features</span>\n",
              "        <span style=\"\"> [6]:</span>\n",
              "      </span>\n",
              "      <span style=\"color:#0077BB; font-weight:bold\">sum_transactions_7_days</span>\n",
              "      <span style=\"color:#009988\"> (float64)</span>\n",
              "      <span style=\"\">, </span>\n",
              "      <span style=\"color:#0077BB; font-weight:bold\">count_transactions_7_days</span>\n",
              "      <span style=\"color:#009988\"> (int32)</span>\n",
              "      <span style=\"\">, </span>\n",
              "      <span style=\"color:#0077BB; font-weight:bold\">sum_transactions_14_days</span>\n",
              "      <span style=\"color:#009988\"> (float64)</span>\n",
              "      <span style=\"\">, </span>\n",
              "      <span style=\"color:#0077BB; font-weight:bold\">count_transactions_14_days</span>\n",
              "      <span style=\"color:#009988\"> (int32)</span>\n",
              "      <span style=\"\">, </span>\n",
              "      <span style=\"color:#0077BB; font-weight:bold\">sum_transactions_28_days</span>\n",
              "      <span style=\"color:#009988\"> (float64)</span>\n",
              "      <span style=\"\">, </span>\n",
              "      <span style=\"color:#0077BB; font-weight:bold\">count_transactions_28_days</span>\n",
              "      <span style=\"color:#009988\"> (int32)</span>\n",
              "    </div>\n",
              "    <div style=\"display: table\">\n",
              "      <span>\n",
              "        <span style=\"font-weight:bold\">indexes</span>\n",
              "        <span style=\"\"> [1]:</span>\n",
              "      </span>\n",
              "      <span style=\"color:#EE7733; font-weight:bold\">TERMINAL_ID</span>\n",
              "      <span style=\"color:#009988\"> (str_)</span>\n",
              "    </div>\n",
              "    <div style=\"display: table\">\n",
              "      <span style=\"font-weight:bold\">events: </span>\n",
              "      <span style=\"\">1754155</span>\n",
              "    </div>\n",
              "    <div style=\"display: table\">\n",
              "      <span style=\"font-weight:bold\">index values: </span>\n",
              "      <span style=\"\">10000</span>\n",
              "    </div>\n",
              "    <div style=\"display: table\">\n",
              "      <span style=\"font-weight:bold\">memory usage: </span>\n",
              "      <span style=\"\">85.8 MB</span>\n",
              "    </div>\n",
              "  </div>\n",
              "  <div style=\"display: table\">\n",
              "    <span style=\"font-weight:bold\">index</span>\n",
              "    <span style=\"\"> (</span>\n",
              "    <span style=\"color:#EE7733; font-weight:bold\">TERMINAL_ID: </span>\n",
              "    <span style=\"color:#EE3377\">0</span>\n",
              "    <span style=\"\">) with 178 events</span>\n",
              "  </div>\n",
              "  <table style=\"margin-left:20px; border:1px solid rgba(127, 127, 127, 0.2)\">\n",
              "    <tr>\n",
              "      <th>\n",
              "        <b>\n",
              "          <span style=\"\">timestamp</span>\n",
              "        </b>\n",
              "      </th>\n",
              "      <th>\n",
              "        <b>\n",
              "          <span style=\"color:#0077BB; font-weight:bold; \">sum_transactions_7_days</span>\n",
              "        </b>\n",
              "      </th>\n",
              "      <th>\n",
              "        <b>\n",
              "          <span style=\"color:#0077BB; font-weight:bold; \">count_transactions_7_days</span>\n",
              "        </b>\n",
              "      </th>\n",
              "      <th>\n",
              "        <b>\n",
              "          <span style=\"color:#0077BB; font-weight:bold; \">sum_transactions_14_days</span>\n",
              "        </b>\n",
              "      </th>\n",
              "      <th>\n",
              "        <b>\n",
              "          <span style=\"color:#0077BB; font-weight:bold; \">count_transactions_14_days</span>\n",
              "        </b>\n",
              "      </th>\n",
              "      <th>\n",
              "        <b>\n",
              "          <span style=\"color:#0077BB; font-weight:bold; \">sum_transactions_28_days</span>\n",
              "        </b>\n",
              "      </th>\n",
              "      <th>\n",
              "        <b>\n",
              "          <span style=\"color:#0077BB; font-weight:bold; \">count_transactions_28_days</span>\n",
              "        </b>\n",
              "      </th>\n",
              "    </tr>\n",
              "    <tr>\n",
              "      <td>\n",
              "        <span style=\"\">2018-04-02 01:00:01+00:00</span>\n",
              "      </td>\n",
              "      <td>\n",
              "        <span style=\"\">16.07</span>\n",
              "      </td>\n",
              "      <td>\n",
              "        <span style=\"\">1</span>\n",
              "      </td>\n",
              "      <td>\n",
              "        <span style=\"\">16.07</span>\n",
              "      </td>\n",
              "      <td>\n",
              "        <span style=\"\">1</span>\n",
              "      </td>\n",
              "      <td>\n",
              "        <span style=\"\">16.07</span>\n",
              "      </td>\n",
              "      <td>\n",
              "        <span style=\"\">1</span>\n",
              "      </td>\n",
              "    </tr>\n",
              "    <tr>\n",
              "      <td>\n",
              "        <span style=\"\">2018-04-02 09:49:55+00:00</span>\n",
              "      </td>\n",
              "      <td>\n",
              "        <span style=\"\">83.9</span>\n",
              "      </td>\n",
              "      <td>\n",
              "        <span style=\"\">2</span>\n",
              "      </td>\n",
              "      <td>\n",
              "        <span style=\"\">83.9</span>\n",
              "      </td>\n",
              "      <td>\n",
              "        <span style=\"\">2</span>\n",
              "      </td>\n",
              "      <td>\n",
              "        <span style=\"\">83.9</span>\n",
              "      </td>\n",
              "      <td>\n",
              "        <span style=\"\">2</span>\n",
              "      </td>\n",
              "    </tr>\n",
              "    <tr>\n",
              "      <td>\n",
              "        <span style=\"\">2018-04-03 12:14:41+00:00</span>\n",
              "      </td>\n",
              "      <td>\n",
              "        <span style=\"\">110.7</span>\n",
              "      </td>\n",
              "      <td>\n",
              "        <span style=\"\">3</span>\n",
              "      </td>\n",
              "      <td>\n",
              "        <span style=\"\">110.7</span>\n",
              "      </td>\n",
              "      <td>\n",
              "        <span style=\"\">3</span>\n",
              "      </td>\n",
              "      <td>\n",
              "        <span style=\"\">110.7</span>\n",
              "      </td>\n",
              "      <td>\n",
              "        <span style=\"\">3</span>\n",
              "      </td>\n",
              "    </tr>\n",
              "    <tr>\n",
              "      <td>\n",
              "        <span style=\"\">2018-04-05 16:47:41+00:00</span>\n",
              "      </td>\n",
              "      <td>\n",
              "        <span style=\"\">151.2</span>\n",
              "      </td>\n",
              "      <td>\n",
              "        <span style=\"\">4</span>\n",
              "      </td>\n",
              "      <td>\n",
              "        <span style=\"\">151.2</span>\n",
              "      </td>\n",
              "      <td>\n",
              "        <span style=\"\">4</span>\n",
              "      </td>\n",
              "      <td>\n",
              "        <span style=\"\">151.2</span>\n",
              "      </td>\n",
              "      <td>\n",
              "        <span style=\"\">4</span>\n",
              "      </td>\n",
              "    </tr>\n",
              "    <tr>\n",
              "      <td>\n",
              "        <span style=\"\">2018-04-07 06:05:21+00:00</span>\n",
              "      </td>\n",
              "      <td>\n",
              "        <span style=\"\">199.6</span>\n",
              "      </td>\n",
              "      <td>\n",
              "        <span style=\"\">5</span>\n",
              "      </td>\n",
              "      <td>\n",
              "        <span style=\"\">199.6</span>\n",
              "      </td>\n",
              "      <td>\n",
              "        <span style=\"\">5</span>\n",
              "      </td>\n",
              "      <td>\n",
              "        <span style=\"\">199.6</span>\n",
              "      </td>\n",
              "      <td>\n",
              "        <span style=\"\">5</span>\n",
              "      </td>\n",
              "    </tr>\n",
              "    <tr>\n",
              "      <td>\n",
              "        <span style=\"\">…</span>\n",
              "      </td>\n",
              "      <td>\n",
              "        <span style=\"\">…</span>\n",
              "      </td>\n",
              "      <td>\n",
              "        <span style=\"\">…</span>\n",
              "      </td>\n",
              "      <td>\n",
              "        <span style=\"\">…</span>\n",
              "      </td>\n",
              "      <td>\n",
              "        <span style=\"\">…</span>\n",
              "      </td>\n",
              "      <td>\n",
              "        <span style=\"\">…</span>\n",
              "      </td>\n",
              "      <td>\n",
              "        <span style=\"\">…</span>\n",
              "      </td>\n",
              "    </tr>\n",
              "  </table>\n",
              "  <div style=\"display: table\">\n",
              "    <span style=\"font-weight:bold\">index</span>\n",
              "    <span style=\"\"> (</span>\n",
              "    <span style=\"color:#EE7733; font-weight:bold\">TERMINAL_ID: </span>\n",
              "    <span style=\"color:#EE3377\">1</span>\n",
              "    <span style=\"\">) with 139 events</span>\n",
              "  </div>\n",
              "  <table style=\"margin-left:20px; border:1px solid rgba(127, 127, 127, 0.2)\">\n",
              "    <tr>\n",
              "      <th>\n",
              "        <b>\n",
              "          <span style=\"\">timestamp</span>\n",
              "        </b>\n",
              "      </th>\n",
              "      <th>\n",
              "        <b>\n",
              "          <span style=\"color:#0077BB; font-weight:bold; \">sum_transactions_7_days</span>\n",
              "        </b>\n",
              "      </th>\n",
              "      <th>\n",
              "        <b>\n",
              "          <span style=\"color:#0077BB; font-weight:bold; \">count_transactions_7_days</span>\n",
              "        </b>\n",
              "      </th>\n",
              "      <th>\n",
              "        <b>\n",
              "          <span style=\"color:#0077BB; font-weight:bold; \">sum_transactions_14_days</span>\n",
              "        </b>\n",
              "      </th>\n",
              "      <th>\n",
              "        <b>\n",
              "          <span style=\"color:#0077BB; font-weight:bold; \">count_transactions_14_days</span>\n",
              "        </b>\n",
              "      </th>\n",
              "      <th>\n",
              "        <b>\n",
              "          <span style=\"color:#0077BB; font-weight:bold; \">sum_transactions_28_days</span>\n",
              "        </b>\n",
              "      </th>\n",
              "      <th>\n",
              "        <b>\n",
              "          <span style=\"color:#0077BB; font-weight:bold; \">count_transactions_28_days</span>\n",
              "        </b>\n",
              "      </th>\n",
              "    </tr>\n",
              "    <tr>\n",
              "      <td>\n",
              "        <span style=\"\">2018-04-01 16:24:39+00:00</span>\n",
              "      </td>\n",
              "      <td>\n",
              "        <span style=\"\">70.36</span>\n",
              "      </td>\n",
              "      <td>\n",
              "        <span style=\"\">1</span>\n",
              "      </td>\n",
              "      <td>\n",
              "        <span style=\"\">70.36</span>\n",
              "      </td>\n",
              "      <td>\n",
              "        <span style=\"\">1</span>\n",
              "      </td>\n",
              "      <td>\n",
              "        <span style=\"\">70.36</span>\n",
              "      </td>\n",
              "      <td>\n",
              "        <span style=\"\">1</span>\n",
              "      </td>\n",
              "    </tr>\n",
              "    <tr>\n",
              "      <td>\n",
              "        <span style=\"\">2018-04-02 11:25:03+00:00</span>\n",
              "      </td>\n",
              "      <td>\n",
              "        <span style=\"\">87.79</span>\n",
              "      </td>\n",
              "      <td>\n",
              "        <span style=\"\">2</span>\n",
              "      </td>\n",
              "      <td>\n",
              "        <span style=\"\">87.79</span>\n",
              "      </td>\n",
              "      <td>\n",
              "        <span style=\"\">2</span>\n",
              "      </td>\n",
              "      <td>\n",
              "        <span style=\"\">87.79</span>\n",
              "      </td>\n",
              "      <td>\n",
              "        <span style=\"\">2</span>\n",
              "      </td>\n",
              "    </tr>\n",
              "    <tr>\n",
              "      <td>\n",
              "        <span style=\"\">2018-04-04 08:31:48+00:00</span>\n",
              "      </td>\n",
              "      <td>\n",
              "        <span style=\"\">211.6</span>\n",
              "      </td>\n",
              "      <td>\n",
              "        <span style=\"\">3</span>\n",
              "      </td>\n",
              "      <td>\n",
              "        <span style=\"\">211.6</span>\n",
              "      </td>\n",
              "      <td>\n",
              "        <span style=\"\">3</span>\n",
              "      </td>\n",
              "      <td>\n",
              "        <span style=\"\">211.6</span>\n",
              "      </td>\n",
              "      <td>\n",
              "        <span style=\"\">3</span>\n",
              "      </td>\n",
              "    </tr>\n",
              "    <tr>\n",
              "      <td>\n",
              "        <span style=\"\">2018-04-04 14:15:28+00:00</span>\n",
              "      </td>\n",
              "      <td>\n",
              "        <span style=\"\">315</span>\n",
              "      </td>\n",
              "      <td>\n",
              "        <span style=\"\">4</span>\n",
              "      </td>\n",
              "      <td>\n",
              "        <span style=\"\">315</span>\n",
              "      </td>\n",
              "      <td>\n",
              "        <span style=\"\">4</span>\n",
              "      </td>\n",
              "      <td>\n",
              "        <span style=\"\">315</span>\n",
              "      </td>\n",
              "      <td>\n",
              "        <span style=\"\">4</span>\n",
              "      </td>\n",
              "    </tr>\n",
              "    <tr>\n",
              "      <td>\n",
              "        <span style=\"\">2018-04-04 20:54:17+00:00</span>\n",
              "      </td>\n",
              "      <td>\n",
              "        <span style=\"\">446.5</span>\n",
              "      </td>\n",
              "      <td>\n",
              "        <span style=\"\">5</span>\n",
              "      </td>\n",
              "      <td>\n",
              "        <span style=\"\">446.5</span>\n",
              "      </td>\n",
              "      <td>\n",
              "        <span style=\"\">5</span>\n",
              "      </td>\n",
              "      <td>\n",
              "        <span style=\"\">446.5</span>\n",
              "      </td>\n",
              "      <td>\n",
              "        <span style=\"\">5</span>\n",
              "      </td>\n",
              "    </tr>\n",
              "    <tr>\n",
              "      <td>\n",
              "        <span style=\"\">…</span>\n",
              "      </td>\n",
              "      <td>\n",
              "        <span style=\"\">…</span>\n",
              "      </td>\n",
              "      <td>\n",
              "        <span style=\"\">…</span>\n",
              "      </td>\n",
              "      <td>\n",
              "        <span style=\"\">…</span>\n",
              "      </td>\n",
              "      <td>\n",
              "        <span style=\"\">…</span>\n",
              "      </td>\n",
              "      <td>\n",
              "        <span style=\"\">…</span>\n",
              "      </td>\n",
              "      <td>\n",
              "        <span style=\"\">…</span>\n",
              "      </td>\n",
              "    </tr>\n",
              "  </table>\n",
              "  <div style=\"display: table\">\n",
              "    <span style=\"font-weight:bold\">index</span>\n",
              "    <span style=\"\"> (</span>\n",
              "    <span style=\"color:#EE7733; font-weight:bold\">TERMINAL_ID: </span>\n",
              "    <span style=\"color:#EE3377\">10</span>\n",
              "    <span style=\"\">) with 151 events</span>\n",
              "  </div>\n",
              "  <table style=\"margin-left:20px; border:1px solid rgba(127, 127, 127, 0.2)\">\n",
              "    <tr>\n",
              "      <th>\n",
              "        <b>\n",
              "          <span style=\"\">timestamp</span>\n",
              "        </b>\n",
              "      </th>\n",
              "      <th>\n",
              "        <b>\n",
              "          <span style=\"color:#0077BB; font-weight:bold; \">sum_transactions_7_days</span>\n",
              "        </b>\n",
              "      </th>\n",
              "      <th>\n",
              "        <b>\n",
              "          <span style=\"color:#0077BB; font-weight:bold; \">count_transactions_7_days</span>\n",
              "        </b>\n",
              "      </th>\n",
              "      <th>\n",
              "        <b>\n",
              "          <span style=\"color:#0077BB; font-weight:bold; \">sum_transactions_14_days</span>\n",
              "        </b>\n",
              "      </th>\n",
              "      <th>\n",
              "        <b>\n",
              "          <span style=\"color:#0077BB; font-weight:bold; \">count_transactions_14_days</span>\n",
              "        </b>\n",
              "      </th>\n",
              "      <th>\n",
              "        <b>\n",
              "          <span style=\"color:#0077BB; font-weight:bold; \">sum_transactions_28_days</span>\n",
              "        </b>\n",
              "      </th>\n",
              "      <th>\n",
              "        <b>\n",
              "          <span style=\"color:#0077BB; font-weight:bold; \">count_transactions_28_days</span>\n",
              "        </b>\n",
              "      </th>\n",
              "    </tr>\n",
              "    <tr>\n",
              "      <td>\n",
              "        <span style=\"\">2018-04-01 14:11:55+00:00</span>\n",
              "      </td>\n",
              "      <td>\n",
              "        <span style=\"\">2.9</span>\n",
              "      </td>\n",
              "      <td>\n",
              "        <span style=\"\">1</span>\n",
              "      </td>\n",
              "      <td>\n",
              "        <span style=\"\">2.9</span>\n",
              "      </td>\n",
              "      <td>\n",
              "        <span style=\"\">1</span>\n",
              "      </td>\n",
              "      <td>\n",
              "        <span style=\"\">2.9</span>\n",
              "      </td>\n",
              "      <td>\n",
              "        <span style=\"\">1</span>\n",
              "      </td>\n",
              "    </tr>\n",
              "    <tr>\n",
              "      <td>\n",
              "        <span style=\"\">2018-04-02 11:01:07+00:00</span>\n",
              "      </td>\n",
              "      <td>\n",
              "        <span style=\"\">17.04</span>\n",
              "      </td>\n",
              "      <td>\n",
              "        <span style=\"\">2</span>\n",
              "      </td>\n",
              "      <td>\n",
              "        <span style=\"\">17.04</span>\n",
              "      </td>\n",
              "      <td>\n",
              "        <span style=\"\">2</span>\n",
              "      </td>\n",
              "      <td>\n",
              "        <span style=\"\">17.04</span>\n",
              "      </td>\n",
              "      <td>\n",
              "        <span style=\"\">2</span>\n",
              "      </td>\n",
              "    </tr>\n",
              "    <tr>\n",
              "      <td>\n",
              "        <span style=\"\">2018-04-03 13:46:58+00:00</span>\n",
              "      </td>\n",
              "      <td>\n",
              "        <span style=\"\">118.2</span>\n",
              "      </td>\n",
              "      <td>\n",
              "        <span style=\"\">3</span>\n",
              "      </td>\n",
              "      <td>\n",
              "        <span style=\"\">118.2</span>\n",
              "      </td>\n",
              "      <td>\n",
              "        <span style=\"\">3</span>\n",
              "      </td>\n",
              "      <td>\n",
              "        <span style=\"\">118.2</span>\n",
              "      </td>\n",
              "      <td>\n",
              "        <span style=\"\">3</span>\n",
              "      </td>\n",
              "    </tr>\n",
              "    <tr>\n",
              "      <td>\n",
              "        <span style=\"\">2018-04-04 03:27:11+00:00</span>\n",
              "      </td>\n",
              "      <td>\n",
              "        <span style=\"\">161.7</span>\n",
              "      </td>\n",
              "      <td>\n",
              "        <span style=\"\">4</span>\n",
              "      </td>\n",
              "      <td>\n",
              "        <span style=\"\">161.7</span>\n",
              "      </td>\n",
              "      <td>\n",
              "        <span style=\"\">4</span>\n",
              "      </td>\n",
              "      <td>\n",
              "        <span style=\"\">161.7</span>\n",
              "      </td>\n",
              "      <td>\n",
              "        <span style=\"\">4</span>\n",
              "      </td>\n",
              "    </tr>\n",
              "    <tr>\n",
              "      <td>\n",
              "        <span style=\"\">2018-04-05 17:58:10+00:00</span>\n",
              "      </td>\n",
              "      <td>\n",
              "        <span style=\"\">171.3</span>\n",
              "      </td>\n",
              "      <td>\n",
              "        <span style=\"\">5</span>\n",
              "      </td>\n",
              "      <td>\n",
              "        <span style=\"\">171.3</span>\n",
              "      </td>\n",
              "      <td>\n",
              "        <span style=\"\">5</span>\n",
              "      </td>\n",
              "      <td>\n",
              "        <span style=\"\">171.3</span>\n",
              "      </td>\n",
              "      <td>\n",
              "        <span style=\"\">5</span>\n",
              "      </td>\n",
              "    </tr>\n",
              "    <tr>\n",
              "      <td>\n",
              "        <span style=\"\">…</span>\n",
              "      </td>\n",
              "      <td>\n",
              "        <span style=\"\">…</span>\n",
              "      </td>\n",
              "      <td>\n",
              "        <span style=\"\">…</span>\n",
              "      </td>\n",
              "      <td>\n",
              "        <span style=\"\">…</span>\n",
              "      </td>\n",
              "      <td>\n",
              "        <span style=\"\">…</span>\n",
              "      </td>\n",
              "      <td>\n",
              "        <span style=\"\">…</span>\n",
              "      </td>\n",
              "      <td>\n",
              "        <span style=\"\">…</span>\n",
              "      </td>\n",
              "    </tr>\n",
              "  </table>\n",
              "  <div style=\"display: table\">\n",
              "    <span style=\"font-weight:bold\">index</span>\n",
              "    <span style=\"\"> (</span>\n",
              "    <span style=\"color:#EE7733; font-weight:bold\">TERMINAL_ID: </span>\n",
              "    <span style=\"color:#EE3377\">100</span>\n",
              "    <span style=\"\">) with 188 events</span>\n",
              "  </div>\n",
              "  <table style=\"margin-left:20px; border:1px solid rgba(127, 127, 127, 0.2)\">\n",
              "    <tr>\n",
              "      <th>\n",
              "        <b>\n",
              "          <span style=\"\">timestamp</span>\n",
              "        </b>\n",
              "      </th>\n",
              "      <th>\n",
              "        <b>\n",
              "          <span style=\"color:#0077BB; font-weight:bold; \">sum_transactions_7_days</span>\n",
              "        </b>\n",
              "      </th>\n",
              "      <th>\n",
              "        <b>\n",
              "          <span style=\"color:#0077BB; font-weight:bold; \">count_transactions_7_days</span>\n",
              "        </b>\n",
              "      </th>\n",
              "      <th>\n",
              "        <b>\n",
              "          <span style=\"color:#0077BB; font-weight:bold; \">sum_transactions_14_days</span>\n",
              "        </b>\n",
              "      </th>\n",
              "      <th>\n",
              "        <b>\n",
              "          <span style=\"color:#0077BB; font-weight:bold; \">count_transactions_14_days</span>\n",
              "        </b>\n",
              "      </th>\n",
              "      <th>\n",
              "        <b>\n",
              "          <span style=\"color:#0077BB; font-weight:bold; \">sum_transactions_28_days</span>\n",
              "        </b>\n",
              "      </th>\n",
              "      <th>\n",
              "        <b>\n",
              "          <span style=\"color:#0077BB; font-weight:bold; \">count_transactions_28_days</span>\n",
              "        </b>\n",
              "      </th>\n",
              "    </tr>\n",
              "    <tr>\n",
              "      <td>\n",
              "        <span style=\"\">2018-04-02 10:37:42+00:00</span>\n",
              "      </td>\n",
              "      <td>\n",
              "        <span style=\"\">6.31</span>\n",
              "      </td>\n",
              "      <td>\n",
              "        <span style=\"\">1</span>\n",
              "      </td>\n",
              "      <td>\n",
              "        <span style=\"\">6.31</span>\n",
              "      </td>\n",
              "      <td>\n",
              "        <span style=\"\">1</span>\n",
              "      </td>\n",
              "      <td>\n",
              "        <span style=\"\">6.31</span>\n",
              "      </td>\n",
              "      <td>\n",
              "        <span style=\"\">1</span>\n",
              "      </td>\n",
              "    </tr>\n",
              "    <tr>\n",
              "      <td>\n",
              "        <span style=\"\">2018-04-04 19:14:23+00:00</span>\n",
              "      </td>\n",
              "      <td>\n",
              "        <span style=\"\">12.26</span>\n",
              "      </td>\n",
              "      <td>\n",
              "        <span style=\"\">2</span>\n",
              "      </td>\n",
              "      <td>\n",
              "        <span style=\"\">12.26</span>\n",
              "      </td>\n",
              "      <td>\n",
              "        <span style=\"\">2</span>\n",
              "      </td>\n",
              "      <td>\n",
              "        <span style=\"\">12.26</span>\n",
              "      </td>\n",
              "      <td>\n",
              "        <span style=\"\">2</span>\n",
              "      </td>\n",
              "    </tr>\n",
              "    <tr>\n",
              "      <td>\n",
              "        <span style=\"\">2018-04-07 04:01:22+00:00</span>\n",
              "      </td>\n",
              "      <td>\n",
              "        <span style=\"\">65.12</span>\n",
              "      </td>\n",
              "      <td>\n",
              "        <span style=\"\">3</span>\n",
              "      </td>\n",
              "      <td>\n",
              "        <span style=\"\">65.12</span>\n",
              "      </td>\n",
              "      <td>\n",
              "        <span style=\"\">3</span>\n",
              "      </td>\n",
              "      <td>\n",
              "        <span style=\"\">65.12</span>\n",
              "      </td>\n",
              "      <td>\n",
              "        <span style=\"\">3</span>\n",
              "      </td>\n",
              "    </tr>\n",
              "    <tr>\n",
              "      <td>\n",
              "        <span style=\"\">2018-04-07 12:18:27+00:00</span>\n",
              "      </td>\n",
              "      <td>\n",
              "        <span style=\"\">112.4</span>\n",
              "      </td>\n",
              "      <td>\n",
              "        <span style=\"\">4</span>\n",
              "      </td>\n",
              "      <td>\n",
              "        <span style=\"\">112.4</span>\n",
              "      </td>\n",
              "      <td>\n",
              "        <span style=\"\">4</span>\n",
              "      </td>\n",
              "      <td>\n",
              "        <span style=\"\">112.4</span>\n",
              "      </td>\n",
              "      <td>\n",
              "        <span style=\"\">4</span>\n",
              "      </td>\n",
              "    </tr>\n",
              "    <tr>\n",
              "      <td>\n",
              "        <span style=\"\">2018-04-07 21:11:03+00:00</span>\n",
              "      </td>\n",
              "      <td>\n",
              "        <span style=\"\">170.4</span>\n",
              "      </td>\n",
              "      <td>\n",
              "        <span style=\"\">5</span>\n",
              "      </td>\n",
              "      <td>\n",
              "        <span style=\"\">170.4</span>\n",
              "      </td>\n",
              "      <td>\n",
              "        <span style=\"\">5</span>\n",
              "      </td>\n",
              "      <td>\n",
              "        <span style=\"\">170.4</span>\n",
              "      </td>\n",
              "      <td>\n",
              "        <span style=\"\">5</span>\n",
              "      </td>\n",
              "    </tr>\n",
              "    <tr>\n",
              "      <td>\n",
              "        <span style=\"\">…</span>\n",
              "      </td>\n",
              "      <td>\n",
              "        <span style=\"\">…</span>\n",
              "      </td>\n",
              "      <td>\n",
              "        <span style=\"\">…</span>\n",
              "      </td>\n",
              "      <td>\n",
              "        <span style=\"\">…</span>\n",
              "      </td>\n",
              "      <td>\n",
              "        <span style=\"\">…</span>\n",
              "      </td>\n",
              "      <td>\n",
              "        <span style=\"\">…</span>\n",
              "      </td>\n",
              "      <td>\n",
              "        <span style=\"\">…</span>\n",
              "      </td>\n",
              "    </tr>\n",
              "  </table>\n",
              "  <span style=\"\">… (9996 more indexes not shown)</span>\n",
              "</div>\n"
            ]
          },
          "metadata": {},
          "execution_count": 9
        }
      ],
      "source": [
        "# Group the transactions per terminal\n",
        "transactions_per_terminal = transactions_evset.add_index(\"TERMINAL_ID\")\n",
        "\n",
        "# Moving statistics per terminal\n",
        "tmp_features = []\n",
        "for n in [7, 14, 28]:\n",
        "    tmp_features.append(\n",
        "        transactions_per_terminal[\"TX_AMOUNT\"]\n",
        "        .moving_sum(tp.duration.days(n))\n",
        "        .rename(f\"sum_transactions_{n}_days\")\n",
        "    )\n",
        "\n",
        "    tmp_features.append(\n",
        "        transactions_per_terminal.moving_count(tp.duration.days(n)).rename(\n",
        "            f\"count_transactions_{n}_days\"\n",
        "        )\n",
        "    )\n",
        "\n",
        "feature_set_1 = tp.glue(*tmp_features)\n",
        "\n",
        "feature_set_1"
      ]
    },
    {
      "cell_type": "markdown",
      "metadata": {
        "id": "P2nBJq3Ad0ix"
      },
      "source": [
        "Let's look at the features of terminal \"3774\"."
      ]
    },
    {
      "cell_type": "code",
      "execution_count": 10,
      "metadata": {
        "id": "TkEv-sLMd0ix",
        "colab": {
          "base_uri": "https://localhost:8080/",
          "height": 907
        },
        "outputId": "5e8c6c61-e8ea-48c0-ab97-3680a88e53f7"
      },
      "outputs": [
        {
          "output_type": "display_data",
          "data": {
            "text/plain": [
              "<Figure size 1024x900 with 6 Axes>"
            ],
            "image/png": "[encoded data removed]"
          },
          "metadata": {}
        }
      ],
      "source": [
        "feature_set_1.plot(indexes=\"3774\")"
      ]
    },
    {
      "cell_type": "markdown",
      "metadata": {
        "id": "_d_PC03yd0iy"
      },
      "source": [
        "A transaction's fraudulent status is not known at the time of the transaction\n",
        "(otherwise, there would be no problem). However, the banks knows if a\n",
        "transacation is fraudulent one week after it is made. We create a set of\n",
        "features that indicate the number and ratio of fraudulent transactions in the\n",
        "last N days."
      ]
    },
    {
      "cell_type": "code",
      "execution_count": 11,
      "metadata": {
        "id": "xUap9Cajd0iy"
      },
      "outputs": [],
      "source": [
        "# Lag the transactions by one week.\n",
        "lagged_transactions = transactions_per_terminal.lag(tp.duration.weeks(1))\n",
        "\n",
        "# Moving statistics per customer\n",
        "tmp_features = []\n",
        "for n in [7, 14, 28]:\n",
        "    tmp_features.append(\n",
        "        lagged_transactions[\"TX_FRAUD\"]\n",
        "        .moving_sum(tp.duration.days(n), sampling=transactions_per_terminal)\n",
        "        .rename(f\"count_fraud_transactions_{n}_days\")\n",
        "    )\n",
        "\n",
        "    tmp_features.append(\n",
        "        lagged_transactions[\"TX_FRAUD\"]\n",
        "        .cast(tp.float32)\n",
        "        .simple_moving_average(tp.duration.days(n), sampling=transactions_per_terminal)\n",
        "        .rename(f\"rate_fraud_transactions_{n}_days\")\n",
        "    )\n",
        "\n",
        "feature_set_2 = tp.glue(*tmp_features)"
      ]
    },
    {
      "cell_type": "markdown",
      "metadata": {
        "id": "Pg9YsSdld0iy"
      },
      "source": [
        "Transaction date and time can be correlated with fraud. While each transaction\n",
        "has a timestamp, a machine learning model might struggle to consume them\n",
        "directly. Instead, we extract various informative calendar features from the\n",
        "timestamps, such as hour, day of the week (e.g., Monday, Tuesday), and day of\n",
        "the month (1-31)."
      ]
    },
    {
      "cell_type": "code",
      "execution_count": 12,
      "metadata": {
        "id": "v8WaOkASd0iy"
      },
      "outputs": [],
      "source": [
        "feature_set_3 = tp.glue(\n",
        "    transactions_per_terminal.calendar_hour(),\n",
        "    transactions_per_terminal.calendar_day_of_week(),\n",
        ")"
      ]
    },
    {
      "cell_type": "markdown",
      "metadata": {
        "id": "Hf5fhAV-d0iy"
      },
      "source": [
        "Finally, we group together all the features and the label."
      ]
    },
    {
      "cell_type": "code",
      "execution_count": 13,
      "metadata": {
        "id": "Nvlr21m9d0iy",
        "colab": {
          "base_uri": "https://localhost:8080/"
        },
        "outputId": "76c6469b-44c4-4fe5-bfc6-d197a123e373"
      },
      "outputs": [
        {
          "output_type": "stream",
          "name": "stdout",
          "text": [
            "All the available features:\n"
          ]
        },
        {
          "output_type": "execute_result",
          "data": {
            "text/plain": [
              "['CUSTOMER_ID',\n",
              " 'TX_AMOUNT',\n",
              " 'TX_FRAUD',\n",
              " 'sum_transactions_7_days',\n",
              " 'count_transactions_7_days',\n",
              " 'sum_transactions_14_days',\n",
              " 'count_transactions_14_days',\n",
              " 'sum_transactions_28_days',\n",
              " 'count_transactions_28_days',\n",
              " 'count_fraud_transactions_7_days',\n",
              " 'rate_fraud_transactions_7_days',\n",
              " 'count_fraud_transactions_14_days',\n",
              " 'rate_fraud_transactions_14_days',\n",
              " 'count_fraud_transactions_28_days',\n",
              " 'rate_fraud_transactions_28_days',\n",
              " 'calendar_hour',\n",
              " 'calendar_day_of_week',\n",
              " 'TERMINAL_ID']"
            ]
          },
          "metadata": {},
          "execution_count": 13
        }
      ],
      "source": [
        "all_data = tp.glue(\n",
        "    transactions_per_terminal, feature_set_1, feature_set_2, feature_set_3\n",
        ").drop_index()\n",
        "\n",
        "print(\"All the available features:\")\n",
        "all_data.schema.feature_names()"
      ]
    },
    {
      "cell_type": "markdown",
      "metadata": {
        "id": "Rl33wjjCd0iy"
      },
      "source": [
        "We extract the name of the input features."
      ]
    },
    {
      "cell_type": "code",
      "execution_count": 14,
      "metadata": {
        "id": "RDuaLm9Hd0iy",
        "colab": {
          "base_uri": "https://localhost:8080/"
        },
        "outputId": "7f170bf6-9a54-481e-f057-10d1418d9774"
      },
      "outputs": [
        {
          "output_type": "stream",
          "name": "stdout",
          "text": [
            "The model's input features:\n"
          ]
        },
        {
          "output_type": "execute_result",
          "data": {
            "text/plain": [
              "['sum_transactions_7_days',\n",
              " 'count_transactions_7_days',\n",
              " 'sum_transactions_14_days',\n",
              " 'count_transactions_14_days',\n",
              " 'sum_transactions_28_days',\n",
              " 'count_transactions_28_days',\n",
              " 'count_fraud_transactions_7_days',\n",
              " 'rate_fraud_transactions_7_days',\n",
              " 'count_fraud_transactions_14_days',\n",
              " 'rate_fraud_transactions_14_days',\n",
              " 'count_fraud_transactions_28_days',\n",
              " 'rate_fraud_transactions_28_days',\n",
              " 'calendar_hour',\n",
              " 'calendar_day_of_week']"
            ]
          },
          "metadata": {},
          "execution_count": 14
        }
      ],
      "source": [
        "input_feature_names = [k for k in all_data.schema.feature_names() if k.islower()]\n",
        "\n",
        "print(\"The model's input features:\")\n",
        "input_feature_names"
      ]
    },
    {
      "cell_type": "markdown",
      "metadata": {
        "id": "FgAFmmlJd0iy"
      },
      "source": [
        "For neural networks to work correctly, numerical inputs must be normalized. A\n",
        "common approach is to apply z-normalization, which involves subtracting the mean\n",
        "and dividing by the standard deviation estimated from the training data to each\n",
        "value. In forecasting, such z-normalization is not recommended as it would lead\n",
        "to future leakage. Specifically, to classify a transaction at time t, we cannot\n",
        "rely on data after time t since, at serving time when making a prediction at\n",
        "time t, no subsequent data is available yet. In short, at time t, we are limited\n",
        "to using data that precedes or is concurrent with time t.\n",
        "\n",
        "The solution is therefore to apply z-normalization **over time**, which means\n",
        "that we normalize each transaction using the mean and standard deviation\n",
        "computed from the past data **for that transaction**.\n",
        "\n",
        "Future leakage is pernicious. Luckily, Temporian is here to help: the only\n",
        "operator that can cause future leakage is `EventSet.leak()`. If you are not\n",
        "using `EventSet.leak()`, your preprocessing is **guaranteed** not to create\n",
        "future leakage.\n",
        "\n",
        "**Note:** For advanced pipelines, you can also check programatically that a\n",
        "feature does not depends on an `EventSet.leak()` operation."
      ]
    },
    {
      "cell_type": "code",
      "execution_count": 15,
      "metadata": {
        "id": "JlJ3aq0vd0iy",
        "colab": {
          "base_uri": "https://localhost:8080/"
        },
        "outputId": "2c7fc265-1170-4925-d624-b9be2324034d"
      },
      "outputs": [
        {
          "output_type": "stream",
          "name": "stdout",
          "text": [
            "indexes: []\n",
            "features: [('sum_transactions_7_days', float32), ('count_transactions_7_days', float32), ('sum_transactions_14_days', float32), ('count_transactions_14_days', float32), ('sum_transactions_28_days', float32), ('count_transactions_28_days', float32), ('count_fraud_transactions_7_days', float32), ('rate_fraud_transactions_7_days', float32), ('count_fraud_transactions_14_days', float32), ('rate_fraud_transactions_14_days', float32), ('count_fraud_transactions_28_days', float32), ('rate_fraud_transactions_28_days', float32), ('calendar_hour', float32), ('calendar_day_of_week', float32)]\n",
            "events:\n",
            "     (1754155 events):\n",
            "        timestamps: ['2018-04-01T00:00:31' '2018-04-01T00:02:10' '2018-04-01T00:07:56' ...\n",
            "     '2018-09-30T23:58:21' '2018-09-30T23:59:52' '2018-09-30T23:59:57']\n",
            "        'sum_transactions_7_days': [ 0.      1.      1.3636 ... -0.064  -0.2059  0.8428]\n",
            "        'count_transactions_7_days': [   nan    nan    nan ... 1.0128 0.6892 1.66  ]\n",
            "        'sum_transactions_14_days': [ 0.      1.      1.3636 ... -0.7811  0.156   1.379 ]\n",
            "        'count_transactions_14_days': [   nan    nan    nan ... 0.2969 0.2969 2.0532]\n",
            "        'sum_transactions_28_days': [ 0.      1.      1.3636 ... -0.7154 -0.2989  1.9396]\n",
            "        'count_transactions_28_days': [    nan     nan     nan ...  0.1172 -0.1958  1.8908]\n",
            "        'count_fraud_transactions_7_days': [    nan     nan     nan ... -0.1043 -0.1043 -0.1043]\n",
            "        'rate_fraud_transactions_7_days': [    nan     nan     nan ... -0.1137 -0.1137 -0.1137]\n",
            "        'count_fraud_transactions_14_days': [    nan     nan     nan ... -0.1133 -0.1133  0.9303]\n",
            "        'rate_fraud_transactions_14_days': [    nan     nan     nan ... -0.1216 -0.1216  0.5275]\n",
            "        ...\n",
            "memory usage: 112.3 MB\n",
            "\n"
          ]
        },
        {
          "output_type": "stream",
          "name": "stderr",
          "text": [
            "/usr/local/lib/python3.10/dist-packages/temporian/implementation/numpy/operators/binary/arithmetic.py:100: RuntimeWarning: invalid value encountered in divide\n",
            "  return evset_1_feature / evset_2_feature\n"
          ]
        }
      ],
      "source": [
        "# Cast all values (e.g. ints) to floats.\n",
        "values = all_data[input_feature_names].cast(tp.float32)\n",
        "\n",
        "# Apply z-normalization overtime.\n",
        "normalized_features = (\n",
        "    values - values.simple_moving_average(math.inf)\n",
        ") / values.moving_standard_deviation(math.inf)\n",
        "\n",
        "# Restore the original name of the features.\n",
        "normalized_features = normalized_features.rename(values.schema.feature_names())\n",
        "\n",
        "print(normalized_features)"
      ]
    },
    {
      "cell_type": "markdown",
      "metadata": {
        "id": "ADJI933Rd0iy"
      },
      "source": [
        "The first transactions will be normalized using poor estimates of the mean and\n",
        "standard deviation since there are only a few transactions before them. To\n",
        "mitigate this issue, we remove the first week of data from the training dataset.\n",
        "\n",
        "Notice that the first values contain NaN. In Temporian, NaN represents missing\n",
        "values, and all operators handle them accordingly. For instance, when\n",
        "calculating a moving average, NaN values are not included in the calculation\n",
        "and do not generate a NaN result.\n",
        "\n",
        "However, neural networks cannot natively handle NaN values. So, we replace them\n",
        "with zeros."
      ]
    },
    {
      "cell_type": "code",
      "execution_count": 16,
      "metadata": {
        "id": "EMt-QiCpd0iy"
      },
      "outputs": [],
      "source": [
        "normalized_features = normalized_features.fillna(0.0)"
      ]
    },
    {
      "cell_type": "markdown",
      "metadata": {
        "id": "K4F1SMrpd0iy"
      },
      "source": [
        "Finally, we group together the features and the labels."
      ]
    },
    {
      "cell_type": "code",
      "execution_count": 17,
      "metadata": {
        "id": "f0yDeINld0iy"
      },
      "outputs": [],
      "source": [
        "normalized_all_data = tp.glue(normalized_features, all_data[\"TX_FRAUD\"])"
      ]
    },
    {
      "cell_type": "markdown",
      "metadata": {
        "id": "bEag7iaad0iy"
      },
      "source": [
        "## Split dataset into a train, validation and test set\n",
        "\n",
        "To evaluate the quality of our machine learning model, we need training,\n",
        "validation and test sets. Since the system is dynamic (new fraud patterns are\n",
        "being created all the time), it is important for the training set to come before\n",
        "the validation set, and the validation set come before the testing set:\n",
        "\n",
        "- **Training:** April 8, 2018 to July 31, 2018\n",
        "- **Validation:** August 1, 2018 to August 31, 2018\n",
        "- **Testing:** September 1, 2018 to September 30, 2018\n",
        "\n",
        "For the example to run faster, we will effectively reduce the size of the\n",
        "training set to:\n",
        "- **Training:** July 1, 2018 to July 31, 2018"
      ]
    },
    {
      "cell_type": "code",
      "execution_count": 18,
      "metadata": {
        "id": "aNLCoS8ed0iy"
      },
      "outputs": [],
      "source": [
        "# begin_train = datetime.datetime(2018, 4, 8).timestamp() # Full training dataset\n",
        "begin_train = datetime.datetime(2018, 7, 1).timestamp()  # Reduced training dataset\n",
        "begin_valid = datetime.datetime(2018, 8, 1).timestamp()\n",
        "begin_test = datetime.datetime(2018, 9, 1).timestamp()\n",
        "\n",
        "is_train = (normalized_all_data.timestamps() >= begin_train) & (\n",
        "    normalized_all_data.timestamps() < begin_valid\n",
        ")\n",
        "is_valid = (normalized_all_data.timestamps() >= begin_valid) & (\n",
        "    normalized_all_data.timestamps() < begin_test\n",
        ")\n",
        "is_test = normalized_all_data.timestamps() >= begin_test"
      ]
    },
    {
      "cell_type": "markdown",
      "metadata": {
        "id": "TKy1aKmRd0iy"
      },
      "source": [
        "`is_train`, `is_valid` and `is_test` are boolean features overtime that indicate\n",
        "the limit of the tree folds. Let's plot them."
      ]
    },
    {
      "cell_type": "code",
      "execution_count": 19,
      "metadata": {
        "id": "IY6q8KcMd0iy",
        "colab": {
          "base_uri": "https://localhost:8080/",
          "height": 457
        },
        "outputId": "4990d09d-ae50-4f29-ebdb-4f4913607451"
      },
      "outputs": [
        {
          "output_type": "display_data",
          "data": {
            "text/plain": [
              "<Figure size 1024x450 with 3 Axes>"
            ],
            "image/png": "[encoded data removed]"
          },
          "metadata": {}
        }
      ],
      "source": [
        "tp.plot(\n",
        "    [\n",
        "        is_train.rename(\"is_train\"),\n",
        "        is_valid.rename(\"is_valid\"),\n",
        "        is_test.rename(\"is_test\"),\n",
        "    ]\n",
        ")"
      ]
    },
    {
      "cell_type": "markdown",
      "metadata": {
        "id": "84iUA6dRd0iy"
      },
      "source": [
        "We filter the input features and label in each fold."
      ]
    },
    {
      "cell_type": "code",
      "execution_count": 20,
      "metadata": {
        "id": "MsipuLZVd0iy",
        "colab": {
          "base_uri": "https://localhost:8080/"
        },
        "outputId": "49f658bf-0682-4f97-ccf3-858411fcb85e"
      },
      "outputs": [
        {
          "output_type": "stream",
          "name": "stdout",
          "text": [
            "Training examples: 296928\n",
            "Validation examples: 296559\n",
            "Testing examples: 287873\n"
          ]
        }
      ],
      "source": [
        "train_ds_evset = normalized_all_data.filter(is_train)\n",
        "valid_ds_evset = normalized_all_data.filter(is_valid)\n",
        "test_ds_evset = normalized_all_data.filter(is_test)\n",
        "\n",
        "print(f\"Training examples: {train_ds_evset.num_events()}\")\n",
        "print(f\"Validation examples: {valid_ds_evset.num_events()}\")\n",
        "print(f\"Testing examples: {test_ds_evset.num_events()}\")"
      ]
    },
    {
      "cell_type": "markdown",
      "metadata": {
        "id": "aFV4h4bgd0iy"
      },
      "source": [
        "It is important to split the dataset **after** the features have been computed\n",
        "because some of the features for the training dataset are computed from\n",
        "transactions during the training window.\n",
        "\n",
        "## Create TensorFlow datasets\n",
        "\n",
        "We convert the datasets from EventSets to TensorFlow Datasets as Keras consumes\n",
        "them natively."
      ]
    },
    {
      "cell_type": "code",
      "execution_count": 21,
      "metadata": {
        "id": "pQk9mZ4zd0iy"
      },
      "outputs": [],
      "source": [
        "non_batched_train_ds = tp.to_tensorflow_dataset(train_ds_evset)\n",
        "non_batched_valid_ds = tp.to_tensorflow_dataset(valid_ds_evset)\n",
        "non_batched_test_ds = tp.to_tensorflow_dataset(test_ds_evset)"
      ]
    },
    {
      "cell_type": "markdown",
      "metadata": {
        "id": "_JY29RZjd0i1"
      },
      "source": [
        "The following processing steps are applied using TensorFlow datasets:\n",
        "\n",
        "1. The features and labels are separated using `extract_features_and_label` in\n",
        "    the format that Keras expects.\n",
        "1. The dataset is batched, which means that the examples are grouped into\n",
        "    mini-batches.\n",
        "1. The training examples are shuffled to improve the quality of mini-batch\n",
        "    training.\n",
        "\n",
        "As we noted before, the dataset is imbalanced in the direction of legitimate\n",
        "transactions. While we want to evaluate our model on this original distribution,\n",
        "neural networks often train poorly on strongly imbalanced datasets. Therefore,\n",
        "we resample the training dataset to a ratio of 80% legitimate / 20% fraudulent\n",
        "using `rejection_resample`."
      ]
    },
    {
      "cell_type": "code",
      "execution_count": 22,
      "metadata": {
        "id": "c5mvUZdjd0i1",
        "colab": {
          "base_uri": "https://localhost:8080/"
        },
        "outputId": "5cb6a86d-4f61-406e-ac14-f55953458f86"
      },
      "outputs": [
        {
          "output_type": "stream",
          "name": "stderr",
          "text": [
            "WARNING:tensorflow:From /usr/local/lib/python3.10/dist-packages/tensorflow/python/data/ops/dataset_ops.py:4958: Print (from tensorflow.python.ops.logging_ops) is deprecated and will be removed after 2018-08-20.\n",
            "Instructions for updating:\n",
            "Use tf.print instead of tf.Print. Note that tf.print returns a no-output operator that directly prints the output. Outside of defuns or eager mode, this operator will not be executed unless it is directly specified in session.run or used as a control dependency for other operators. This is only a concern in graph mode. Below is an example of how to ensure tf.print executes in graph mode:\n",
            "\n"
          ]
        }
      ],
      "source": [
        "\n",
        "def extract_features_and_label(example):\n",
        "    features = {k: example[k] for k in input_feature_names}\n",
        "    labels = tf.cast(example[\"TX_FRAUD\"], tf.int32)\n",
        "    return features, labels\n",
        "\n",
        "\n",
        "# Target ratio of fraudulent transactions in the training dataset.\n",
        "target_rate = 0.2\n",
        "\n",
        "# Number of examples in a mini-batch.\n",
        "batch_size = 32\n",
        "\n",
        "train_ds = (\n",
        "    non_batched_train_ds.shuffle(10000)\n",
        "    .rejection_resample(\n",
        "        class_func=lambda x: tf.cast(x[\"TX_FRAUD\"], tf.int32),\n",
        "        target_dist=[1 - target_rate, target_rate],\n",
        "        initial_dist=[1 - fraudulent_rate, fraudulent_rate],\n",
        "    )\n",
        "    .map(lambda _, x: x)  # Remove the label copy added by \"rejection_resample\".\n",
        "    .batch(batch_size)\n",
        "    .map(extract_features_and_label)\n",
        "    .prefetch(tf.data.AUTOTUNE)\n",
        ")\n",
        "\n",
        "# The test and validation dataset does not need resampling or shuffling.\n",
        "valid_ds = (\n",
        "    non_batched_valid_ds.batch(batch_size)\n",
        "    .map(extract_features_and_label)\n",
        "    .prefetch(tf.data.AUTOTUNE)\n",
        ")\n",
        "test_ds = (\n",
        "    non_batched_test_ds.batch(batch_size)\n",
        "    .map(extract_features_and_label)\n",
        "    .prefetch(tf.data.AUTOTUNE)\n",
        ")"
      ]
    },
    {
      "cell_type": "markdown",
      "metadata": {
        "id": "7WNzl6dXd0i1"
      },
      "source": [
        "We print the first four examples of the training dataset. This is a simple way\n",
        "to identify some of the errors that could have been made above."
      ]
    },
    {
      "cell_type": "code",
      "execution_count": 23,
      "metadata": {
        "id": "o5UB7QPad0i1",
        "colab": {
          "base_uri": "https://localhost:8080/"
        },
        "outputId": "a693db71-c691-4f51-d05b-b8cc13424d6a"
      },
      "outputs": [
        {
          "output_type": "stream",
          "name": "stdout",
          "text": [
            "features\n",
            "\tsum_transactions_7_days: [-0.7190561 -1.4646987  0.2021024  1.5533459]\n",
            "\tcount_transactions_7_days: [-0.8704386  -0.87053746  0.08350954  0.40198445]\n",
            "\tsum_transactions_14_days: [ 0.38741   -1.3418838  0.5546208  0.8980732]\n",
            "\tcount_transactions_14_days: [ 0.00980672 -0.9144425   0.37931022  0.19535133]\n",
            "\tsum_transactions_28_days: [-0.2492948  -0.58537054  0.59071517  1.1216327 ]\n",
            "\tcount_transactions_28_days: [-0.26051825  0.21190506  0.30655986  0.8752295 ]\n",
            "\tcount_fraud_transactions_7_days: [-0.09785811 -0.09788197 -0.09787574 -0.09778524]\n",
            "\trate_fraud_transactions_7_days: [-0.10955629 -0.10958406 -0.10957736 -0.10947693]\n",
            "\tcount_fraud_transactions_14_days: [-0.10455424 -0.10457057 -0.10457042 -0.10446825]\n",
            "\trate_fraud_transactions_14_days: [-0.11569533 -0.1157095  -0.11571071 -0.11562261]\n",
            "\tcount_fraud_transactions_28_days: [-0.1130055  -0.11301769 -0.11301756 -0.11285781]\n",
            "\trate_fraud_transactions_28_days: [-0.12643485 -0.12644039 -0.1264404  -0.12632528]\n",
            "\tcalendar_hour: [1.092365   1.4870801  1.4876001  0.10389528]\n",
            "\tcalendar_day_of_week: [1.4760534 1.4743154 1.474825  1.4854901]\n",
            "labels: [0 0 0 0]\n"
          ]
        }
      ],
      "source": [
        "for features, labels in train_ds.take(1):\n",
        "    print(\"features\")\n",
        "    for feature_name, feature_value in features.items():\n",
        "        print(f\"\\t{feature_name}: {feature_value[:4]}\")\n",
        "    print(f\"labels: {labels[:4]}\")"
      ]
    },
    {
      "cell_type": "markdown",
      "metadata": {
        "id": "8BRMZ9Zmd0i1"
      },
      "source": [
        "## Train the model\n",
        "\n",
        "The original dataset is transactional, but the processed data is tabular and\n",
        "only contains normalized numerical values. Therefore, we train a feed-forward\n",
        "neural network."
      ]
    },
    {
      "cell_type": "code",
      "execution_count": 24,
      "metadata": {
        "id": "tXRPrl0jd0i1"
      },
      "outputs": [],
      "source": [
        "inputs = [keras.Input(shape=(1,), name=name) for name in input_feature_names]\n",
        "x = keras.layers.concatenate(inputs)\n",
        "x = keras.layers.Dense(32, activation=\"sigmoid\")(x)\n",
        "x = keras.layers.Dense(16, activation=\"sigmoid\")(x)\n",
        "x = keras.layers.Dense(1, activation=\"sigmoid\")(x)\n",
        "model = keras.Model(inputs=inputs, outputs=x)"
      ]
    },
    {
      "cell_type": "markdown",
      "metadata": {
        "id": "JTExrzzcd0i1"
      },
      "source": [
        "Our goal is to differentiate between the fraudulent and legitimate transactions,\n",
        "so we use a binary classification objective. Because the dataset is imbalanced,\n",
        "accuracy is not an informative metric. Instead, we evaluate the model using the\n",
        "[area under the curve](https://en.wikipedia.org/wiki/Receiver_operating_characteristic#Area_under_the_curve)\n",
        "(AUC)."
      ]
    },
    {
      "cell_type": "code",
      "execution_count": 25,
      "metadata": {
        "id": "iLC7uJiDd0i1",
        "colab": {
          "base_uri": "https://localhost:8080/"
        },
        "outputId": "2ea6948e-51e8-4953-b8f1-59028b5efae2"
      },
      "outputs": [
        {
          "output_type": "stream",
          "name": "stdout",
          "text": [
            "    423/Unknown \u001b[1m43s\u001b[0m 94ms/step - accuracy: 0.0000e+00 - auc: 0.8177 - loss: 0.3530"
          ]
        },
        {
          "output_type": "stream",
          "name": "stderr",
          "text": [
            "/usr/lib/python3.10/contextlib.py:153: UserWarning: Your input ran out of data; interrupting training. Make sure that your dataset or generator can generate at least `steps_per_epoch * epochs` batches. You may need to use the `.repeat()` function when building your dataset.\n",
            "  self.gen.throw(typ, value, traceback)\n"
          ]
        },
        {
          "output_type": "stream",
          "name": "stdout",
          "text": [
            "\b\b\b\b\b\b\b\b\b\b\b\b\b\b\b\b\b\b\b\b\b\b\b\b\b\b\b\b\b\b\b\b\b\b\b\b\b\b\b\b\b\b\b\b\b\b\b\b\b\b\b\b\b\b\b\b\b\b\b\b\b\b\b\b\b\b\b\b\b\b\b\b\b\b\b\b\b\b\b\b\b\r\u001b[1m423/423\u001b[0m \u001b[32m━━━━━━━━━━━━━━━━━━━━\u001b[0m\u001b[37m\u001b[0m \u001b[1m64s\u001b[0m 144ms/step - accuracy: 0.0000e+00 - auc: 0.8178 - loss: 0.3529 - val_accuracy: 0.0000e+00 - val_auc: 0.8269 - val_loss: 0.1607\n"
          ]
        },
        {
          "output_type": "execute_result",
          "data": {
            "text/plain": [
              "<keras.src.callbacks.history.History at 0x7e604f969930>"
            ]
          },
          "metadata": {},
          "execution_count": 25
        }
      ],
      "source": [
        "model.compile(\n",
        "    optimizer=keras.optimizers.Adam(0.01),\n",
        "    loss=keras.losses.BinaryCrossentropy(),\n",
        "    metrics=[keras.metrics.Accuracy(), keras.metrics.AUC()],\n",
        ")\n",
        "model.fit(train_ds, validation_data=valid_ds)"
      ]
    },
    {
      "cell_type": "markdown",
      "metadata": {
        "id": "fcIeoWUZd0i2"
      },
      "source": [
        "We evaluate the model on the test dataset."
      ]
    },
    {
      "cell_type": "code",
      "execution_count": 26,
      "metadata": {
        "id": "vS16pkZhd0i2",
        "colab": {
          "base_uri": "https://localhost:8080/"
        },
        "outputId": "3f45dd14-3a53-4b89-f1ac-265c8de2e760"
      },
      "outputs": [
        {
          "output_type": "stream",
          "name": "stdout",
          "text": [
            "\u001b[1m8997/8997\u001b[0m \u001b[32m━━━━━━━━━━━━━━━━━━━━\u001b[0m\u001b[37m\u001b[0m \u001b[1m21s\u001b[0m 2ms/step - accuracy: 0.0000e+00 - auc: 0.8360 - loss: 0.1630\n"
          ]
        },
        {
          "output_type": "execute_result",
          "data": {
            "text/plain": [
              "[0.1632664054632187, 0.0, 0.8272995352745056]"
            ]
          },
          "metadata": {},
          "execution_count": 26
        }
      ],
      "source": [
        "model.evaluate(test_ds)"
      ]
    },
    {
      "cell_type": "markdown",
      "metadata": {
        "id": "Kvi1BftId0i2"
      },
      "source": [
        "With and AUC of ~83%, our simple fraud detector is showing encouraging\n",
        "results.\n",
        "\n",
        "\n",
        "Plotting the ROC curve is a good solution to understand and select the operation\n",
        "point of the model i.e. the threshold applied on the model output to\n",
        "differentiate between fraudulent and legitimate transactions.\n",
        "\n",
        "Compute the test predictions:"
      ]
    },
    {
      "cell_type": "code",
      "execution_count": 27,
      "metadata": {
        "id": "fCGfpzrxd0i2",
        "colab": {
          "base_uri": "https://localhost:8080/"
        },
        "outputId": "4a2e22e3-7c43-458a-dad0-3af451bab94e"
      },
      "outputs": [
        {
          "output_type": "stream",
          "name": "stdout",
          "text": [
            "\u001b[1m8997/8997\u001b[0m \u001b[32m━━━━━━━━━━━━━━━━━━━━\u001b[0m\u001b[37m\u001b[0m \u001b[1m22s\u001b[0m 2ms/step\n"
          ]
        }
      ],
      "source": [
        "predictions = model.predict(test_ds)\n",
        "predictions = np.nan_to_num(predictions, nan=0)"
      ]
    },
    {
      "cell_type": "markdown",
      "metadata": {
        "id": "JISXZY4Sd0i2"
      },
      "source": [
        "Extract the labels from the test set:"
      ]
    },
    {
      "cell_type": "code",
      "execution_count": 28,
      "metadata": {
        "id": "ZXzX7fZYd0i2"
      },
      "outputs": [],
      "source": [
        "labels = np.concatenate([label for _, label in test_ds])"
      ]
    },
    {
      "cell_type": "markdown",
      "metadata": {
        "id": "JUQbVcypd0i2"
      },
      "source": [
        "Finaly, we plot the ROC curve."
      ]
    },
    {
      "cell_type": "code",
      "execution_count": 29,
      "metadata": {
        "id": "SdCeea_Ud0i2",
        "colab": {
          "base_uri": "https://localhost:8080/",
          "height": 451
        },
        "outputId": "24bbd349-df75-4b07-d744-a5785d04e8b5"
      },
      "outputs": [
        {
          "output_type": "display_data",
          "data": {
            "text/plain": [
              "<Figure size 640x480 with 1 Axes>"
            ],
            "image/png": "[encoded data removed]"
          },
          "metadata": {}
        }
      ],
      "source": [
        "_ = RocCurveDisplay.from_predictions(labels, predictions)\n"
      ]
    },
    {
      "cell_type": "markdown",
      "metadata": {
        "id": "twf-kPZRd0i2"
      },
      "source": [
        "The Keras model is ready to be used on transactions with an unknown fraud\n",
        "status, a.k.a. serving. We save the model on disk for future use.\n",
        "\n",
        "**Note:** The model does not include the data preparation and preprocessing steps\n",
        "done in Pandas and Temporian. They have to be applied manually to the data fed\n",
        "into the model. While not demonstrated here, Temporian preprocessing can also be\n",
        "saved to disk with\n",
        "[tp.save](https://temporian.readthedocs.io/en/latest/reference/temporian/serialization/save/)."
      ]
    },
    {
      "cell_type": "code",
      "execution_count": 30,
      "metadata": {
        "id": "nZFFSN8bd0i2"
      },
      "outputs": [],
      "source": [
        "model.save(\"fraud_detection_model.keras\")"
      ]
    },
    {
      "cell_type": "markdown",
      "metadata": {
        "id": "0ZwK7BHQd0i3"
      },
      "source": [
        "The model can be later reloaded with:"
      ]
    },
    {
      "cell_type": "code",
      "execution_count": 31,
      "metadata": {
        "id": "xqvahyWkd0i3",
        "colab": {
          "base_uri": "https://localhost:8080/"
        },
        "outputId": "b02c4346-3f98-43f4-a280-35769422beff"
      },
      "outputs": [
        {
          "output_type": "stream",
          "name": "stdout",
          "text": [
            "\u001b[1m1/1\u001b[0m \u001b[32m━━━━━━━━━━━━━━━━━━━━\u001b[0m\u001b[37m\u001b[0m \u001b[1m0s\u001b[0m 307ms/step\n"
          ]
        },
        {
          "output_type": "stream",
          "name": "stderr",
          "text": [
            "/usr/lib/python3.10/contextlib.py:153: UserWarning: Your input ran out of data; interrupting training. Make sure that your dataset or generator can generate at least `steps_per_epoch * epochs` batches. You may need to use the `.repeat()` function when building your dataset.\n",
            "  self.gen.throw(typ, value, traceback)\n"
          ]
        },
        {
          "output_type": "execute_result",
          "data": {
            "text/plain": [
              "array([[0.1532897 ],\n",
              "       [0.07252048],\n",
              "       [0.38823414],\n",
              "       [0.05947975],\n",
              "       [0.08502957]], dtype=float32)"
            ]
          },
          "metadata": {},
          "execution_count": 31
        }
      ],
      "source": [
        "loaded_model = keras.saving.load_model(\"fraud_detection_model.keras\")\n",
        "\n",
        "# Generate predictions with the loaded model on 5 test examples.\n",
        "loaded_model.predict(test_ds.rebatch(5).take(1))"
      ]
    },
    {
      "cell_type": "markdown",
      "metadata": {
        "id": "J9_Lu3Rfd0i3"
      },
      "source": [
        "## Conclusion\n",
        "\n",
        "We trained a feed-forward neural network to identify fraudulent transactions. To\n",
        "feed them into the model, the transactions were preprocessed and transformed\n",
        "into a tabular dataset using\n",
        "[Temporian](https://temporian.readthedocs.io/en/latest/). Now, a question to the\n",
        "reader: What could be done to further improve the model's performance?\n",
        "\n",
        "Here are some ideas:\n",
        "\n",
        "- Train the model on the entire dataset instead of a single month of data.\n",
        "- Train the model for more epochs and use early stopping to ensure that the\n",
        "    model is fully trained without overfitting.\n",
        "- Make the feed-forward network more powerful by increasing the number of layers\n",
        "    while ensuring that the model is regularized.\n",
        "- Compute additional preprocessing features. For example, in addition to\n",
        "    aggregating transactions by terminal, aggregate transactions by client.\n",
        "- Use the Keras Tuner to perform hyperparameter tuning on the model. Note that\n",
        "    the parameters of the preprocessing (e.g., the number of days of\n",
        "    aggregations) are also hyperparameters that can be tuned."
      ]
    }
  ],
  "metadata": {
    "accelerator": "GPU",
    "colab": {
      "provenance": [],
      "include_colab_link": true
    },
    "kernelspec": {
      "display_name": "Python 3",
      "language": "python",
      "name": "python3"
    },
    "language_info": {
      "codemirror_mode": {
        "name": "ipython",
        "version": 3
      },
      "file_extension": ".py",
      "mimetype": "text/x-python",
      "name": "python",
      "nbconvert_exporter": "python",
      "pygments_lexer": "ipython3",
      "version": "3.7.0"
    }
  },
  "nbformat": 4,
  "nbformat_minor": 0
}